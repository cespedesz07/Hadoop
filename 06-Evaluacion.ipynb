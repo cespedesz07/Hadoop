{
 "cells": [
  {
   "cell_type": "markdown",
   "metadata": {},
   "source": [
    "**Recuerde no agregar o quitar celdas en este notebook, ni modificar su tipo. Si lo hace, el sistema automaticamente lo calificará con cero punto cero (0.0)**"
   ]
  },
  {
   "cell_type": "markdown",
   "metadata": {},
   "source": [
    "Obtenga la cantidad de registros por mes para el siguiente archivo."
   ]
  },
  {
   "cell_type": "code",
   "execution_count": 1,
   "metadata": {},
   "outputs": [
    {
     "name": "stdout",
     "output_type": "stream",
     "text": [
      "Writing input.txt\n"
     ]
    }
   ],
   "source": [
    "%%writefile input.txt\n",
    "B   1999-08-28   14\n",
    "E   1999-12-06   12\n",
    "E   1993-07-21   17\n",
    "C   1991-02-12   13\n",
    "E   1995-04-25   16\n",
    "A   1992-08-22   14\n",
    "B   1999-06-11   12\n",
    "E   1993-01-27   13\n",
    "E   1999-09-10   11\n",
    "E   1990-05-03   16\n",
    "E   1994-02-14   10\n",
    "A   1988-04-27   12\n",
    "A   1990-10-06   10\n",
    "E   1985-02-12   16\n",
    "E   1998-09-14   16\n",
    "B   1994-08-30   17\n",
    "A   1997-12-15   13\n",
    "B   1995-08-23   10\n",
    "B   1998-11-22   13\n",
    "B   1997-04-09   14\n",
    "E   1993-12-27   18\n",
    "E   1999-01-14   15\n",
    "A   1992-09-19   18\n",
    "B   1993-03-02   14\n",
    "B   1999-10-21   13\n",
    "A   1990-08-31   12\n",
    "C   1994-01-25   10\n",
    "E   1990-02-09   18\n",
    "A   1990-09-26   14\n",
    "A   1993-05-08   16\n",
    "B   1995-09-06   14\n",
    "E   1991-02-18   14\n",
    "A   1993-01-11   14\n",
    "A   1990-07-22   18\n",
    "C   1994-09-09   15\n",
    "C   1994-07-27   10\n",
    "D   1990-10-10   15\n",
    "A   1990-09-05   11\n",
    "B   1991-10-01   15\n",
    "A   1994-10-25   13"
   ]
  },
  {
   "cell_type": "markdown",
   "metadata": {},
   "source": [
    "## Mapper"
   ]
  },
  {
   "cell_type": "code",
   "execution_count": 2,
   "metadata": {},
   "outputs": [
    {
     "name": "stdout",
     "output_type": "stream",
     "text": [
      "Writing mapper.py\n"
     ]
    }
   ],
   "source": [
    "%%writefile mapper.py\n",
    "#! /usr/bin/env python\n",
    "\n",
    "import sys\n",
    "if __name__ == \"__main__\": \n",
    "    for line in sys.stdin:\n",
    "        splitLine = line.split()\n",
    "        months = splitLine[1].split('-')[1]\n",
    "        values = splitLine[2]\n",
    "        sys.stdout.write( \"{}\\t{}\\n\".format(months, values) )"
   ]
  },
  {
   "cell_type": "markdown",
   "metadata": {},
   "source": [
    "## Reducer"
   ]
  },
  {
   "cell_type": "code",
   "execution_count": 3,
   "metadata": {},
   "outputs": [
    {
     "name": "stdout",
     "output_type": "stream",
     "text": [
      "Writing reducer.py\n"
     ]
    }
   ],
   "source": [
    "%%writefile reducer.py\n",
    "#!/usr/bin/env python\n",
    "\n",
    "import sys\n",
    "if __name__ == '__main__': \n",
    "    \n",
    "    curKey = None\n",
    "    curCounter = 0\n",
    "    \n",
    "    for line in sys.stdin:\n",
    "        key, value = line.split(\"\\t\")\n",
    "        \n",
    "        if key == curKey:\n",
    "            curCounter += 1\n",
    "        else:\n",
    "            if curKey is not None:\n",
    "                sys.stdout.write(\"{}\\t{}\\n\".format(curKey, curCounter))\n",
    "                \n",
    "            curKey= key\n",
    "            curCounter = 1\n",
    "            \n",
    "    sys.stdout.write(\"{}\\t{}\\n\".format(curKey, curCounter))"
   ]
  },
  {
   "cell_type": "markdown",
   "metadata": {},
   "source": [
    "## Ejecución"
   ]
  },
  {
   "cell_type": "code",
   "execution_count": 4,
   "metadata": {},
   "outputs": [
    {
     "name": "stdout",
     "output_type": "stream",
     "text": [
      "01\t4\n",
      "02\t5\n",
      "03\t1\n",
      "04\t3\n",
      "05\t2\n",
      "06\t1\n",
      "07\t3\n",
      "08\t5\n",
      "09\t7\n",
      "10\t5\n",
      "11\t1\n",
      "12\t3\n"
     ]
    },
    {
     "name": "stderr",
     "output_type": "stream",
     "text": [
      "Java HotSpot(TM) Server VM warning: You have loaded library /home/cespedesz07/hadoop-3.1.1/lib/native/libhadoop.so.1.0.0 which might have disabled stack guard. The VM will try to fix the stack guard now.\n",
      "It's highly recommended that you fix the library with 'execstack -c <libfile>', or link it with '-z noexecstack'.\n",
      "2018-10-26 14:42:22,680 WARN util.NativeCodeLoader: Unable to load native-hadoop library for your platform... using builtin-java classes where applicable\n",
      "2018-10-26 14:42:24,043 INFO impl.MetricsConfig: loaded properties from hadoop-metrics2.properties\n",
      "2018-10-26 14:42:24,218 INFO impl.MetricsSystemImpl: Scheduled Metric snapshot period at 10 second(s).\n",
      "2018-10-26 14:42:24,218 INFO impl.MetricsSystemImpl: JobTracker metrics system started\n",
      "2018-10-26 14:42:24,264 WARN impl.MetricsSystemImpl: JobTracker metrics system already initialized!\n",
      "2018-10-26 14:42:25,610 INFO mapred.FileInputFormat: Total input files to process : 1\n",
      "2018-10-26 14:42:25,715 INFO mapreduce.JobSubmitter: number of splits:1\n",
      "2018-10-26 14:42:26,118 INFO mapreduce.JobSubmitter: Submitting tokens for job: job_local369196703_0001\n",
      "2018-10-26 14:42:26,121 INFO mapreduce.JobSubmitter: Executing with tokens: []\n",
      "2018-10-26 14:42:26,598 INFO mapreduce.Job: The url to track the job: http://localhost:8080/\n",
      "2018-10-26 14:42:26,605 INFO mapreduce.Job: Running job: job_local369196703_0001\n",
      "2018-10-26 14:42:26,623 INFO mapred.LocalJobRunner: OutputCommitter set in config null\n",
      "2018-10-26 14:42:26,628 INFO mapred.LocalJobRunner: OutputCommitter is org.apache.hadoop.mapred.FileOutputCommitter\n",
      "2018-10-26 14:42:26,670 INFO output.FileOutputCommitter: File Output Committer Algorithm version is 2\n",
      "2018-10-26 14:42:26,670 INFO output.FileOutputCommitter: FileOutputCommitter skip cleanup _temporary folders under output directory:false, ignore cleanup failures: false\n",
      "2018-10-26 14:42:26,784 INFO mapred.LocalJobRunner: Waiting for map tasks\n",
      "2018-10-26 14:42:26,793 INFO mapred.LocalJobRunner: Starting task: attempt_local369196703_0001_m_000000_0\n",
      "2018-10-26 14:42:26,865 INFO output.FileOutputCommitter: File Output Committer Algorithm version is 2\n",
      "2018-10-26 14:42:26,865 INFO output.FileOutputCommitter: FileOutputCommitter skip cleanup _temporary folders under output directory:false, ignore cleanup failures: false\n",
      "2018-10-26 14:42:26,948 INFO mapred.Task:  Using ResourceCalculatorProcessTree : [ ]\n",
      "2018-10-26 14:42:26,995 INFO mapred.MapTask: Processing split: file:/home/cespedesz07/Documentos/Projects/mod-0-hadoop-cespedesz07/input.txt:0+799\n",
      "2018-10-26 14:42:27,037 INFO mapred.MapTask: numReduceTasks: 1\n",
      "2018-10-26 14:42:27,154 INFO mapred.MapTask: (EQUATOR) 0 kvi 26214396(104857584)\n",
      "2018-10-26 14:42:27,155 INFO mapred.MapTask: mapreduce.task.io.sort.mb: 100\n",
      "2018-10-26 14:42:27,155 INFO mapred.MapTask: soft limit at 83886080\n",
      "2018-10-26 14:42:27,155 INFO mapred.MapTask: bufstart = 0; bufvoid = 104857600\n",
      "2018-10-26 14:42:27,155 INFO mapred.MapTask: kvstart = 26214396; length = 6553600\n",
      "2018-10-26 14:42:27,163 INFO mapred.MapTask: Map output collector class = org.apache.hadoop.mapred.MapTask$MapOutputBuffer\n",
      "2018-10-26 14:42:27,175 INFO streaming.PipeMapRed: PipeMapRed exec [/home/cespedesz07/Documentos/Projects/mod-0-hadoop-cespedesz07/./mapper.py]\n",
      "2018-10-26 14:42:27,192 INFO Configuration.deprecation: mapred.work.output.dir is deprecated. Instead, use mapreduce.task.output.dir\n",
      "2018-10-26 14:42:27,193 INFO Configuration.deprecation: map.input.start is deprecated. Instead, use mapreduce.map.input.start\n",
      "2018-10-26 14:42:27,194 INFO Configuration.deprecation: mapred.task.is.map is deprecated. Instead, use mapreduce.task.ismap\n",
      "2018-10-26 14:42:27,195 INFO Configuration.deprecation: mapred.task.id is deprecated. Instead, use mapreduce.task.attempt.id\n",
      "2018-10-26 14:42:27,196 INFO Configuration.deprecation: mapred.tip.id is deprecated. Instead, use mapreduce.task.id\n",
      "2018-10-26 14:42:27,196 INFO Configuration.deprecation: mapred.local.dir is deprecated. Instead, use mapreduce.cluster.local.dir\n",
      "2018-10-26 14:42:27,197 INFO Configuration.deprecation: map.input.file is deprecated. Instead, use mapreduce.map.input.file\n",
      "2018-10-26 14:42:27,198 INFO Configuration.deprecation: mapred.skip.on is deprecated. Instead, use mapreduce.job.skiprecords\n",
      "2018-10-26 14:42:27,199 INFO Configuration.deprecation: map.input.length is deprecated. Instead, use mapreduce.map.input.length\n",
      "2018-10-26 14:42:27,201 INFO Configuration.deprecation: mapred.job.id is deprecated. Instead, use mapreduce.job.id\n",
      "2018-10-26 14:42:27,201 INFO Configuration.deprecation: user.name is deprecated. Instead, use mapreduce.job.user.name\n",
      "2018-10-26 14:42:27,202 INFO Configuration.deprecation: mapred.task.partition is deprecated. Instead, use mapreduce.task.partition\n",
      "2018-10-26 14:42:27,272 INFO streaming.PipeMapRed: R/W/S=1/0/0 in:NA [rec/s] out:NA [rec/s]\n",
      "2018-10-26 14:42:27,275 INFO streaming.PipeMapRed: R/W/S=10/0/0 in:NA [rec/s] out:NA [rec/s]\n",
      "2018-10-26 14:42:27,350 INFO streaming.PipeMapRed: Records R/W=40/1\n",
      "2018-10-26 14:42:27,353 INFO streaming.PipeMapRed: MRErrorThread done\n",
      "2018-10-26 14:42:27,355 INFO streaming.PipeMapRed: mapRedFinished\n",
      "2018-10-26 14:42:27,361 INFO mapred.LocalJobRunner: \n",
      "2018-10-26 14:42:27,362 INFO mapred.MapTask: Starting flush of map output\n",
      "2018-10-26 14:42:27,362 INFO mapred.MapTask: Spilling map output\n",
      "2018-10-26 14:42:27,362 INFO mapred.MapTask: bufstart = 0; bufend = 240; bufvoid = 104857600\n",
      "2018-10-26 14:42:27,362 INFO mapred.MapTask: kvstart = 26214396(104857584); kvend = 26214240(104856960); length = 157/6553600\n",
      "2018-10-26 14:42:27,402 INFO mapred.MapTask: Finished spill 0\n",
      "2018-10-26 14:42:27,446 INFO mapred.Task: Task:attempt_local369196703_0001_m_000000_0 is done. And is in the process of committing\n",
      "2018-10-26 14:42:27,460 INFO mapred.LocalJobRunner: Records R/W=40/1\n",
      "2018-10-26 14:42:27,462 INFO mapred.Task: Task 'attempt_local369196703_0001_m_000000_0' done.\n",
      "2018-10-26 14:42:27,490 INFO mapred.Task: Final Counters for attempt_local369196703_0001_m_000000_0: Counters: 17\n",
      "\tFile System Counters\n",
      "\t\tFILE: Number of bytes read=177295\n",
      "\t\tFILE: Number of bytes written=682484\n",
      "\t\tFILE: Number of read operations=0\n",
      "\t\tFILE: Number of large read operations=0\n",
      "\t\tFILE: Number of write operations=0\n",
      "\tMap-Reduce Framework\n",
      "\t\tMap input records=40\n",
      "\t\tMap output records=40\n",
      "\t\tMap output bytes=240\n",
      "\t\tMap output materialized bytes=326\n",
      "\t\tInput split bytes=129\n",
      "\t\tCombine input records=0\n",
      "\t\tSpilled Records=40\n",
      "\t\tFailed Shuffles=0\n",
      "\t\tMerged Map outputs=0\n",
      "\t\tGC time elapsed (ms)=0\n",
      "\t\tTotal committed heap usage (bytes)=214171648\n",
      "\tFile Input Format Counters \n",
      "\t\tBytes Read=799\n",
      "2018-10-26 14:42:27,491 INFO mapred.LocalJobRunner: Finishing task: attempt_local369196703_0001_m_000000_0\n",
      "2018-10-26 14:42:27,493 INFO mapred.LocalJobRunner: map task executor complete.\n",
      "2018-10-26 14:42:27,500 INFO mapred.LocalJobRunner: Waiting for reduce tasks\n",
      "2018-10-26 14:42:27,501 INFO mapred.LocalJobRunner: Starting task: attempt_local369196703_0001_r_000000_0\n",
      "2018-10-26 14:42:27,519 INFO output.FileOutputCommitter: File Output Committer Algorithm version is 2\n",
      "2018-10-26 14:42:27,519 INFO output.FileOutputCommitter: FileOutputCommitter skip cleanup _temporary folders under output directory:false, ignore cleanup failures: false\n",
      "2018-10-26 14:42:27,521 INFO mapred.Task:  Using ResourceCalculatorProcessTree : [ ]\n",
      "2018-10-26 14:42:27,533 INFO mapred.ReduceTask: Using ShuffleConsumerPlugin: org.apache.hadoop.mapreduce.task.reduce.Shuffle@1752e55\n",
      "2018-10-26 14:42:27,541 WARN impl.MetricsSystemImpl: JobTracker metrics system already initialized!\n",
      "2018-10-26 14:42:27,586 INFO reduce.MergeManagerImpl: MergerManager: memoryLimit=605552640, maxSingleShuffleLimit=151388160, mergeThreshold=399664768, ioSortFactor=10, memToMemMergeOutputsThreshold=10\n",
      "2018-10-26 14:42:27,593 INFO reduce.EventFetcher: attempt_local369196703_0001_r_000000_0 Thread started: EventFetcher for fetching Map Completion Events\n",
      "2018-10-26 14:42:27,634 INFO mapreduce.Job: Job job_local369196703_0001 running in uber mode : false\n",
      "2018-10-26 14:42:27,636 INFO mapreduce.Job:  map 100% reduce 0%\n",
      "2018-10-26 14:42:27,664 INFO reduce.LocalFetcher: localfetcher#1 about to shuffle output of map attempt_local369196703_0001_m_000000_0 decomp: 322 len: 326 to MEMORY\n",
      "2018-10-26 14:42:27,672 INFO reduce.InMemoryMapOutput: Read 322 bytes from map-output for attempt_local369196703_0001_m_000000_0\n",
      "2018-10-26 14:42:27,676 INFO reduce.MergeManagerImpl: closeInMemoryFile -> map-output of size: 322, inMemoryMapOutputs.size() -> 1, commitMemory -> 0, usedMemory ->322\n",
      "2018-10-26 14:42:27,678 INFO reduce.EventFetcher: EventFetcher is interrupted.. Returning\n",
      "2018-10-26 14:42:27,680 INFO mapred.LocalJobRunner: 1 / 1 copied.\n",
      "2018-10-26 14:42:27,681 INFO reduce.MergeManagerImpl: finalMerge called with 1 in-memory map-outputs and 0 on-disk map-outputs\n",
      "2018-10-26 14:42:27,705 INFO mapred.Merger: Merging 1 sorted segments\n",
      "2018-10-26 14:42:27,706 INFO mapred.Merger: Down to the last merge-pass, with 1 segments left of total size: 317 bytes\n",
      "2018-10-26 14:42:27,722 INFO reduce.MergeManagerImpl: Merged 1 segments, 322 bytes to disk to satisfy reduce memory limit\n",
      "2018-10-26 14:42:27,724 INFO reduce.MergeManagerImpl: Merging 1 files, 326 bytes from disk\n",
      "2018-10-26 14:42:27,726 INFO reduce.MergeManagerImpl: Merging 0 segments, 0 bytes from memory into reduce\n",
      "2018-10-26 14:42:27,726 INFO mapred.Merger: Merging 1 sorted segments\n",
      "2018-10-26 14:42:27,727 INFO mapred.Merger: Down to the last merge-pass, with 1 segments left of total size: 317 bytes\n",
      "2018-10-26 14:42:27,728 INFO mapred.LocalJobRunner: 1 / 1 copied.\n",
      "2018-10-26 14:42:27,739 INFO streaming.PipeMapRed: PipeMapRed exec [/home/cespedesz07/Documentos/Projects/mod-0-hadoop-cespedesz07/./reducer.py]\n",
      "2018-10-26 14:42:27,747 INFO Configuration.deprecation: mapred.job.tracker is deprecated. Instead, use mapreduce.jobtracker.address\n",
      "2018-10-26 14:42:27,749 INFO Configuration.deprecation: mapred.map.tasks is deprecated. Instead, use mapreduce.job.maps\n",
      "2018-10-26 14:42:27,818 INFO streaming.PipeMapRed: R/W/S=1/0/0 in:NA [rec/s] out:NA [rec/s]\n",
      "2018-10-26 14:42:27,819 INFO streaming.PipeMapRed: R/W/S=10/0/0 in:NA [rec/s] out:NA [rec/s]\n",
      "2018-10-26 14:42:27,862 INFO streaming.PipeMapRed: Records R/W=40/1\n",
      "2018-10-26 14:42:27,868 INFO streaming.PipeMapRed: MRErrorThread done\n",
      "2018-10-26 14:42:27,869 INFO streaming.PipeMapRed: mapRedFinished\n",
      "2018-10-26 14:42:27,870 INFO mapred.Task: Task:attempt_local369196703_0001_r_000000_0 is done. And is in the process of committing\n",
      "2018-10-26 14:42:27,872 INFO mapred.LocalJobRunner: 1 / 1 copied.\n",
      "2018-10-26 14:42:27,872 INFO mapred.Task: Task attempt_local369196703_0001_r_000000_0 is allowed to commit now\n",
      "2018-10-26 14:42:27,876 INFO output.FileOutputCommitter: Saved output of task 'attempt_local369196703_0001_r_000000_0' to file:/home/cespedesz07/Documentos/Projects/mod-0-hadoop-cespedesz07/output\n",
      "2018-10-26 14:42:27,879 INFO mapred.LocalJobRunner: Records R/W=40/1 > reduce\n",
      "2018-10-26 14:42:27,879 INFO mapred.Task: Task 'attempt_local369196703_0001_r_000000_0' done.\n",
      "2018-10-26 14:42:27,881 INFO mapred.Task: Final Counters for attempt_local369196703_0001_r_000000_0: Counters: 24\n",
      "\tFile System Counters\n",
      "\t\tFILE: Number of bytes read=177979\n",
      "\t\tFILE: Number of bytes written=682882\n",
      "\t\tFILE: Number of read operations=0\n",
      "\t\tFILE: Number of large read operations=0\n",
      "\t\tFILE: Number of write operations=0\n",
      "\tMap-Reduce Framework\n",
      "\t\tCombine input records=0\n",
      "\t\tCombine output records=0\n",
      "\t\tReduce input groups=12\n",
      "\t\tReduce shuffle bytes=326\n",
      "\t\tReduce input records=40\n",
      "\t\tReduce output records=12\n",
      "\t\tSpilled Records=40\n",
      "\t\tShuffled Maps =1\n",
      "\t\tFailed Shuffles=0\n",
      "\t\tMerged Map outputs=1\n",
      "\t\tGC time elapsed (ms)=22\n",
      "\t\tTotal committed heap usage (bytes)=214433792\n",
      "\tShuffle Errors\n",
      "\t\tBAD_ID=0\n",
      "\t\tCONNECTION=0\n",
      "\t\tIO_ERROR=0\n",
      "\t\tWRONG_LENGTH=0\n",
      "\t\tWRONG_MAP=0\n",
      "\t\tWRONG_REDUCE=0\n",
      "\tFile Output Format Counters \n",
      "\t\tBytes Written=72\n",
      "2018-10-26 14:42:27,881 INFO mapred.LocalJobRunner: Finishing task: attempt_local369196703_0001_r_000000_0\n",
      "2018-10-26 14:42:27,882 INFO mapred.LocalJobRunner: reduce task executor complete.\n",
      "2018-10-26 14:42:28,639 INFO mapreduce.Job:  map 100% reduce 100%\n",
      "2018-10-26 14:42:28,639 INFO mapreduce.Job: Job job_local369196703_0001 completed successfully\n",
      "2018-10-26 14:42:28,662 INFO mapreduce.Job: Counters: 30\n",
      "\tFile System Counters\n",
      "\t\tFILE: Number of bytes read=355274\n",
      "\t\tFILE: Number of bytes written=1365366\n",
      "\t\tFILE: Number of read operations=0\n",
      "\t\tFILE: Number of large read operations=0\n",
      "\t\tFILE: Number of write operations=0\n",
      "\tMap-Reduce Framework\n",
      "\t\tMap input records=40\n",
      "\t\tMap output records=40\n",
      "\t\tMap output bytes=240\n",
      "\t\tMap output materialized bytes=326\n",
      "\t\tInput split bytes=129\n",
      "\t\tCombine input records=0\n",
      "\t\tCombine output records=0\n",
      "\t\tReduce input groups=12\n",
      "\t\tReduce shuffle bytes=326\n",
      "\t\tReduce input records=40\n",
      "\t\tReduce output records=12\n",
      "\t\tSpilled Records=80\n",
      "\t\tShuffled Maps =1\n",
      "\t\tFailed Shuffles=0\n",
      "\t\tMerged Map outputs=1\n",
      "\t\tGC time elapsed (ms)=22\n",
      "\t\tTotal committed heap usage (bytes)=428605440\n",
      "\tShuffle Errors\n",
      "\t\tBAD_ID=0\n",
      "\t\tCONNECTION=0\n",
      "\t\tIO_ERROR=0\n",
      "\t\tWRONG_LENGTH=0\n",
      "\t\tWRONG_MAP=0\n",
      "\t\tWRONG_REDUCE=0\n",
      "\tFile Input Format Counters \n",
      "\t\tBytes Read=799\n",
      "\tFile Output Format Counters \n",
      "\t\tBytes Written=72\n",
      "2018-10-26 14:42:28,664 INFO streaming.StreamJob: Output directory: output\n"
     ]
    }
   ],
   "source": [
    "%%bash\n",
    "rm -rf output\n",
    "STREAM=$HADOOP_HOME/share/hadoop/tools/lib/hadoop-streaming-*.jar\n",
    "chmod +x mapper.py\n",
    "chmod +x reducer.py\n",
    "$HADOOP_HOME/bin/hadoop jar $STREAM -input input.txt -output output -mapper mapper.py -reducer reducer.py\n",
    "cat output/part-00000"
   ]
  },
  {
   "cell_type": "code",
   "execution_count": 5,
   "metadata": {},
   "outputs": [],
   "source": [
    "!rm -rf mapper.py reducer.py output input.txt"
   ]
  },
  {
   "cell_type": "markdown",
   "metadata": {},
   "source": [
    "---"
   ]
  },
  {
   "cell_type": "markdown",
   "metadata": {},
   "source": [
    "Para realizar la evaluación automática de este libro:\n",
    "\n",
    "* Abra un Terminal.\n",
    "* Asegurece que esat en la misma carpeta que contiene este notebook.\n",
    "* Salve el notebook.\n",
    "* Ejecute el siguiente comando:\n",
    "\n",
    "      ./gradetool 06--Taller.ipynb"
   ]
  },
  {
   "cell_type": "markdown",
   "metadata": {},
   "source": [
    "---"
   ]
  }
 ],
 "metadata": {
  "kernelspec": {
   "display_name": "Python 3",
   "language": "python",
   "name": "python3"
  },
  "language_info": {
   "codemirror_mode": {
    "name": "ipython",
    "version": 3
   },
   "file_extension": ".py",
   "mimetype": "text/x-python",
   "name": "python",
   "nbconvert_exporter": "python",
   "pygments_lexer": "ipython3",
   "version": "3.7.0"
  },
  "toc": {
   "base_numbering": 1,
   "nav_menu": {},
   "number_sections": false,
   "sideBar": true,
   "skip_h1_title": true,
   "title_cell": "Table of Contents",
   "title_sidebar": "Contents",
   "toc_cell": false,
   "toc_position": {},
   "toc_section_display": true,
   "toc_window_display": true
  },
  "toc-autonumbering": false
 },
 "nbformat": 4,
 "nbformat_minor": 2
}
