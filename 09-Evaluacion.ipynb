{
 "cells": [
  {
   "cell_type": "markdown",
   "metadata": {},
   "source": [
    "**Recuerde no agregar o quitar celdas en este notebook, ni modificar su tipo. Si lo hace, el sistema automaticamente lo calificará con cero punto cero (0.0)**"
   ]
  },
  {
   "cell_type": "markdown",
   "metadata": {},
   "source": [
    "Compute la suma y el promedio de la tercera columna por letra."
   ]
  },
  {
   "cell_type": "code",
   "execution_count": 1,
   "metadata": {},
   "outputs": [
    {
     "name": "stdout",
     "output_type": "stream",
     "text": [
      "Overwriting input.txt\n"
     ]
    }
   ],
   "source": [
    "%%writefile input.txt\n",
    "B   1999-08-28   14\n",
    "E   1999-12-06   12\n",
    "E   1993-07-21   17\n",
    "C   1991-02-12   13\n",
    "E   1995-04-25   16\n",
    "A   1992-08-22   14\n",
    "B   1999-06-11   12\n",
    "E   1993-01-27   13\n",
    "E   1999-09-10   11\n",
    "E   1990-05-03   16\n",
    "E   1994-02-14   10\n",
    "A   1988-04-27   12\n",
    "A   1990-10-06   10\n",
    "E   1985-02-12   16\n",
    "E   1998-09-14   16\n",
    "B   1994-08-30   17\n",
    "A   1997-12-15   13\n",
    "B   1995-08-23   10\n",
    "B   1998-11-22   13\n",
    "B   1997-04-09   14\n",
    "E   1993-12-27   18\n",
    "E   1999-01-14   15\n",
    "A   1992-09-19   18\n",
    "B   1993-03-02   14\n",
    "B   1999-10-21   13\n",
    "A   1990-08-31   12\n",
    "C   1994-01-25   10\n",
    "E   1990-02-09   18\n",
    "A   1990-09-26   14\n",
    "A   1993-05-08   16\n",
    "B   1995-09-06   14\n",
    "E   1991-02-18   14\n",
    "A   1993-01-11   14\n",
    "A   1990-07-22   18\n",
    "C   1994-09-09   15\n",
    "C   1994-07-27   10\n",
    "D   1990-10-10   15\n",
    "A   1990-09-05   11\n",
    "B   1991-10-01   15\n",
    "A   1994-10-25   13"
   ]
  },
  {
   "cell_type": "markdown",
   "metadata": {},
   "source": [
    "## Mapper"
   ]
  },
  {
   "cell_type": "code",
   "execution_count": 2,
   "metadata": {},
   "outputs": [
    {
     "name": "stdout",
     "output_type": "stream",
     "text": [
      "Overwriting mapper.py\n"
     ]
    }
   ],
   "source": [
    "%%writefile mapper.py\n",
    "#! /usr/bin/env python\n",
    "\n",
    "import sys\n",
    "if __name__ == \"__main__\":\n",
    "    for line in sys.stdin:\n",
    "        splitLine = line.split()\n",
    "        sys.stdout.write( \"{}\\t{}\\t{}\\n\".format(splitLine[0], splitLine[2], splitLine[2]) )"
   ]
  },
  {
   "cell_type": "markdown",
   "metadata": {},
   "source": [
    "## Reducer"
   ]
  },
  {
   "cell_type": "code",
   "execution_count": 7,
   "metadata": {},
   "outputs": [
    {
     "name": "stdout",
     "output_type": "stream",
     "text": [
      "Overwriting reducer.py\n"
     ]
    }
   ],
   "source": [
    "%%writefile reducer.py\n",
    "#!/usr/bin/env python\n",
    "\n",
    "import sys\n",
    "if __name__ == '__main__':\n",
    "    \n",
    "    currentKey = None\n",
    "    currentSum = 0\n",
    "    currentCount = 0\n",
    "    \n",
    "    for line in sys.stdin:        \n",
    "        rowKey, rowSum, rowMean = line.split(\"\\t\")\n",
    "        rowSum = int(rowSum)\n",
    "        rowMean = int(rowMean)\n",
    "            \n",
    "        if currentKey == rowKey:\n",
    "            currentSum += int(rowSum)\n",
    "            currentCount += 1\n",
    "        else:\n",
    "            if currentKey is not None:\n",
    "                sys.stdout.write( \"{}\\t{}\\t{}\\n\".format(currentKey, float(currentSum), currentSum/currentCount ) )\n",
    "                \n",
    "            currentKey = rowKey\n",
    "            currentSum = rowSum\n",
    "            currentCount = 1\n",
    "    sys.stdout.write( \"{}\\t{}\\t{}\\n\".format(currentKey, float(currentSum), currentSum/currentCount ) )"
   ]
  },
  {
   "cell_type": "markdown",
   "metadata": {},
   "source": [
    "## Ejecución"
   ]
  },
  {
   "cell_type": "code",
   "execution_count": 8,
   "metadata": {},
   "outputs": [
    {
     "name": "stdout",
     "output_type": "stream",
     "text": [
      "A\t165.0\t13.75\n",
      "B\t136.0\t13.6\n",
      "C\t48.0\t12.0\n",
      "D\t15.0\t15.0\n",
      "E\t192.0\t14.76923076923077\n"
     ]
    },
    {
     "name": "stderr",
     "output_type": "stream",
     "text": [
      "Java HotSpot(TM) Server VM warning: You have loaded library /home/cespedesz07/hadoop-3.1.1/lib/native/libhadoop.so.1.0.0 which might have disabled stack guard. The VM will try to fix the stack guard now.\n",
      "It's highly recommended that you fix the library with 'execstack -c <libfile>', or link it with '-z noexecstack'.\n",
      "2018-10-26 15:50:17,201 WARN util.NativeCodeLoader: Unable to load native-hadoop library for your platform... using builtin-java classes where applicable\n",
      "2018-10-26 15:50:18,502 INFO impl.MetricsConfig: loaded properties from hadoop-metrics2.properties\n",
      "2018-10-26 15:50:18,655 INFO impl.MetricsSystemImpl: Scheduled Metric snapshot period at 10 second(s).\n",
      "2018-10-26 15:50:18,655 INFO impl.MetricsSystemImpl: JobTracker metrics system started\n",
      "2018-10-26 15:50:18,701 WARN impl.MetricsSystemImpl: JobTracker metrics system already initialized!\n",
      "2018-10-26 15:50:19,597 INFO mapred.FileInputFormat: Total input files to process : 1\n",
      "2018-10-26 15:50:19,689 INFO mapreduce.JobSubmitter: number of splits:1\n",
      "2018-10-26 15:50:20,049 INFO mapreduce.JobSubmitter: Submitting tokens for job: job_local349307639_0001\n",
      "2018-10-26 15:50:20,053 INFO mapreduce.JobSubmitter: Executing with tokens: []\n",
      "2018-10-26 15:50:20,475 INFO mapreduce.Job: The url to track the job: http://localhost:8080/\n",
      "2018-10-26 15:50:20,478 INFO mapred.LocalJobRunner: OutputCommitter set in config null\n",
      "2018-10-26 15:50:20,478 INFO mapreduce.Job: Running job: job_local349307639_0001\n",
      "2018-10-26 15:50:20,481 INFO mapred.LocalJobRunner: OutputCommitter is org.apache.hadoop.mapred.FileOutputCommitter\n",
      "2018-10-26 15:50:20,495 INFO output.FileOutputCommitter: File Output Committer Algorithm version is 2\n",
      "2018-10-26 15:50:20,495 INFO output.FileOutputCommitter: FileOutputCommitter skip cleanup _temporary folders under output directory:false, ignore cleanup failures: false\n",
      "2018-10-26 15:50:20,588 INFO mapred.LocalJobRunner: Waiting for map tasks\n",
      "2018-10-26 15:50:20,597 INFO mapred.LocalJobRunner: Starting task: attempt_local349307639_0001_m_000000_0\n",
      "2018-10-26 15:50:20,675 INFO output.FileOutputCommitter: File Output Committer Algorithm version is 2\n",
      "2018-10-26 15:50:20,683 INFO output.FileOutputCommitter: FileOutputCommitter skip cleanup _temporary folders under output directory:false, ignore cleanup failures: false\n",
      "2018-10-26 15:50:20,770 INFO mapred.Task:  Using ResourceCalculatorProcessTree : [ ]\n",
      "2018-10-26 15:50:20,796 INFO mapred.MapTask: Processing split: file:/home/cespedesz07/Documentos/Projects/mod-0-hadoop-cespedesz07/input.txt:0+799\n",
      "2018-10-26 15:50:20,835 INFO mapred.MapTask: numReduceTasks: 1\n",
      "2018-10-26 15:50:20,956 INFO mapred.MapTask: (EQUATOR) 0 kvi 26214396(104857584)\n",
      "2018-10-26 15:50:20,956 INFO mapred.MapTask: mapreduce.task.io.sort.mb: 100\n",
      "2018-10-26 15:50:20,956 INFO mapred.MapTask: soft limit at 83886080\n",
      "2018-10-26 15:50:20,956 INFO mapred.MapTask: bufstart = 0; bufvoid = 104857600\n",
      "2018-10-26 15:50:20,956 INFO mapred.MapTask: kvstart = 26214396; length = 6553600\n",
      "2018-10-26 15:50:20,963 INFO mapred.MapTask: Map output collector class = org.apache.hadoop.mapred.MapTask$MapOutputBuffer\n",
      "2018-10-26 15:50:20,975 INFO streaming.PipeMapRed: PipeMapRed exec [/home/cespedesz07/Documentos/Projects/mod-0-hadoop-cespedesz07/./mapper.py]\n",
      "2018-10-26 15:50:20,993 INFO Configuration.deprecation: mapred.work.output.dir is deprecated. Instead, use mapreduce.task.output.dir\n",
      "2018-10-26 15:50:20,994 INFO Configuration.deprecation: map.input.start is deprecated. Instead, use mapreduce.map.input.start\n",
      "2018-10-26 15:50:20,995 INFO Configuration.deprecation: mapred.task.is.map is deprecated. Instead, use mapreduce.task.ismap\n",
      "2018-10-26 15:50:20,996 INFO Configuration.deprecation: mapred.task.id is deprecated. Instead, use mapreduce.task.attempt.id\n",
      "2018-10-26 15:50:20,998 INFO Configuration.deprecation: mapred.tip.id is deprecated. Instead, use mapreduce.task.id\n",
      "2018-10-26 15:50:20,998 INFO Configuration.deprecation: mapred.local.dir is deprecated. Instead, use mapreduce.cluster.local.dir\n",
      "2018-10-26 15:50:20,998 INFO Configuration.deprecation: map.input.file is deprecated. Instead, use mapreduce.map.input.file\n",
      "2018-10-26 15:50:20,999 INFO Configuration.deprecation: mapred.skip.on is deprecated. Instead, use mapreduce.job.skiprecords\n",
      "2018-10-26 15:50:21,000 INFO Configuration.deprecation: map.input.length is deprecated. Instead, use mapreduce.map.input.length\n",
      "2018-10-26 15:50:21,002 INFO Configuration.deprecation: mapred.job.id is deprecated. Instead, use mapreduce.job.id\n",
      "2018-10-26 15:50:21,003 INFO Configuration.deprecation: user.name is deprecated. Instead, use mapreduce.job.user.name\n",
      "2018-10-26 15:50:21,003 INFO Configuration.deprecation: mapred.task.partition is deprecated. Instead, use mapreduce.task.partition\n",
      "2018-10-26 15:50:21,077 INFO streaming.PipeMapRed: R/W/S=1/0/0 in:NA [rec/s] out:NA [rec/s]\n",
      "2018-10-26 15:50:21,079 INFO streaming.PipeMapRed: R/W/S=10/0/0 in:NA [rec/s] out:NA [rec/s]\n",
      "2018-10-26 15:50:21,124 INFO streaming.PipeMapRed: Records R/W=40/1\n",
      "2018-10-26 15:50:21,128 INFO streaming.PipeMapRed: MRErrorThread done\n",
      "2018-10-26 15:50:21,129 INFO streaming.PipeMapRed: mapRedFinished\n",
      "2018-10-26 15:50:21,136 INFO mapred.LocalJobRunner: \n",
      "2018-10-26 15:50:21,136 INFO mapred.MapTask: Starting flush of map output\n",
      "2018-10-26 15:50:21,137 INFO mapred.MapTask: Spilling map output\n",
      "2018-10-26 15:50:21,137 INFO mapred.MapTask: bufstart = 0; bufend = 320; bufvoid = 104857600\n",
      "2018-10-26 15:50:21,137 INFO mapred.MapTask: kvstart = 26214396(104857584); kvend = 26214240(104856960); length = 157/6553600\n",
      "2018-10-26 15:50:21,173 INFO mapred.MapTask: Finished spill 0\n",
      "2018-10-26 15:50:21,208 INFO mapred.Task: Task:attempt_local349307639_0001_m_000000_0 is done. And is in the process of committing\n",
      "2018-10-26 15:50:21,213 INFO mapred.LocalJobRunner: Records R/W=40/1\n",
      "2018-10-26 15:50:21,214 INFO mapred.Task: Task 'attempt_local349307639_0001_m_000000_0' done.\n",
      "2018-10-26 15:50:21,233 INFO mapred.Task: Final Counters for attempt_local349307639_0001_m_000000_0: Counters: 17\n",
      "\tFile System Counters\n",
      "\t\tFILE: Number of bytes read=177295\n",
      "\t\tFILE: Number of bytes written=682564\n",
      "\t\tFILE: Number of read operations=0\n",
      "\t\tFILE: Number of large read operations=0\n",
      "\t\tFILE: Number of write operations=0\n",
      "\tMap-Reduce Framework\n",
      "\t\tMap input records=40\n",
      "\t\tMap output records=40\n",
      "\t\tMap output bytes=320\n",
      "\t\tMap output materialized bytes=406\n",
      "\t\tInput split bytes=129\n",
      "\t\tCombine input records=0\n",
      "\t\tSpilled Records=40\n",
      "\t\tFailed Shuffles=0\n",
      "\t\tMerged Map outputs=0\n",
      "\t\tGC time elapsed (ms)=0\n",
      "\t\tTotal committed heap usage (bytes)=214433792\n",
      "\tFile Input Format Counters \n",
      "\t\tBytes Read=799\n",
      "2018-10-26 15:50:21,234 INFO mapred.LocalJobRunner: Finishing task: attempt_local349307639_0001_m_000000_0\n",
      "2018-10-26 15:50:21,236 INFO mapred.LocalJobRunner: map task executor complete.\n",
      "2018-10-26 15:50:21,244 INFO mapred.LocalJobRunner: Waiting for reduce tasks\n",
      "2018-10-26 15:50:21,245 INFO mapred.LocalJobRunner: Starting task: attempt_local349307639_0001_r_000000_0\n",
      "2018-10-26 15:50:21,263 INFO output.FileOutputCommitter: File Output Committer Algorithm version is 2\n",
      "2018-10-26 15:50:21,263 INFO output.FileOutputCommitter: FileOutputCommitter skip cleanup _temporary folders under output directory:false, ignore cleanup failures: false\n",
      "2018-10-26 15:50:21,264 INFO mapred.Task:  Using ResourceCalculatorProcessTree : [ ]\n",
      "2018-10-26 15:50:21,274 INFO mapred.ReduceTask: Using ShuffleConsumerPlugin: org.apache.hadoop.mapreduce.task.reduce.Shuffle@49db59\n",
      "2018-10-26 15:50:21,279 WARN impl.MetricsSystemImpl: JobTracker metrics system already initialized!\n",
      "2018-10-26 15:50:21,347 INFO reduce.MergeManagerImpl: MergerManager: memoryLimit=605552640, maxSingleShuffleLimit=151388160, mergeThreshold=399664768, ioSortFactor=10, memToMemMergeOutputsThreshold=10\n",
      "2018-10-26 15:50:21,368 INFO reduce.EventFetcher: attempt_local349307639_0001_r_000000_0 Thread started: EventFetcher for fetching Map Completion Events\n",
      "2018-10-26 15:50:21,476 INFO reduce.LocalFetcher: localfetcher#1 about to shuffle output of map attempt_local349307639_0001_m_000000_0 decomp: 402 len: 406 to MEMORY\n",
      "2018-10-26 15:50:21,484 INFO reduce.InMemoryMapOutput: Read 402 bytes from map-output for attempt_local349307639_0001_m_000000_0\n",
      "2018-10-26 15:50:21,488 INFO reduce.MergeManagerImpl: closeInMemoryFile -> map-output of size: 402, inMemoryMapOutputs.size() -> 1, commitMemory -> 0, usedMemory ->402\n",
      "2018-10-26 15:50:21,490 INFO mapreduce.Job: Job job_local349307639_0001 running in uber mode : false\n",
      "2018-10-26 15:50:21,492 INFO mapreduce.Job:  map 100% reduce 0%\n",
      "2018-10-26 15:50:21,495 INFO reduce.EventFetcher: EventFetcher is interrupted.. Returning\n",
      "2018-10-26 15:50:21,502 INFO mapred.LocalJobRunner: 1 / 1 copied.\n",
      "2018-10-26 15:50:21,504 INFO reduce.MergeManagerImpl: finalMerge called with 1 in-memory map-outputs and 0 on-disk map-outputs\n",
      "2018-10-26 15:50:21,529 INFO mapred.Merger: Merging 1 sorted segments\n",
      "2018-10-26 15:50:21,530 INFO mapred.Merger: Down to the last merge-pass, with 1 segments left of total size: 398 bytes\n",
      "2018-10-26 15:50:21,548 INFO reduce.MergeManagerImpl: Merged 1 segments, 402 bytes to disk to satisfy reduce memory limit\n",
      "2018-10-26 15:50:21,549 INFO reduce.MergeManagerImpl: Merging 1 files, 406 bytes from disk\n",
      "2018-10-26 15:50:21,551 INFO reduce.MergeManagerImpl: Merging 0 segments, 0 bytes from memory into reduce\n",
      "2018-10-26 15:50:21,552 INFO mapred.Merger: Merging 1 sorted segments\n",
      "2018-10-26 15:50:21,553 INFO mapred.Merger: Down to the last merge-pass, with 1 segments left of total size: 398 bytes\n",
      "2018-10-26 15:50:21,554 INFO mapred.LocalJobRunner: 1 / 1 copied.\n",
      "2018-10-26 15:50:21,566 INFO streaming.PipeMapRed: PipeMapRed exec [/home/cespedesz07/Documentos/Projects/mod-0-hadoop-cespedesz07/./reducer.py]\n",
      "2018-10-26 15:50:21,606 INFO Configuration.deprecation: mapred.job.tracker is deprecated. Instead, use mapreduce.jobtracker.address\n",
      "2018-10-26 15:50:21,609 INFO Configuration.deprecation: mapred.map.tasks is deprecated. Instead, use mapreduce.job.maps\n",
      "2018-10-26 15:50:21,670 INFO streaming.PipeMapRed: R/W/S=1/0/0 in:NA [rec/s] out:NA [rec/s]\n",
      "2018-10-26 15:50:21,671 INFO streaming.PipeMapRed: R/W/S=10/0/0 in:NA [rec/s] out:NA [rec/s]\n",
      "2018-10-26 15:50:21,700 INFO streaming.PipeMapRed: Records R/W=40/1\n",
      "2018-10-26 15:50:21,708 INFO streaming.PipeMapRed: MRErrorThread done\n",
      "2018-10-26 15:50:21,715 INFO streaming.PipeMapRed: mapRedFinished\n",
      "2018-10-26 15:50:21,717 INFO mapred.Task: Task:attempt_local349307639_0001_r_000000_0 is done. And is in the process of committing\n",
      "2018-10-26 15:50:21,721 INFO mapred.LocalJobRunner: 1 / 1 copied.\n",
      "2018-10-26 15:50:21,721 INFO mapred.Task: Task attempt_local349307639_0001_r_000000_0 is allowed to commit now\n",
      "2018-10-26 15:50:21,739 INFO output.FileOutputCommitter: Saved output of task 'attempt_local349307639_0001_r_000000_0' to file:/home/cespedesz07/Documentos/Projects/mod-0-hadoop-cespedesz07/output\n",
      "2018-10-26 15:50:21,746 INFO mapred.LocalJobRunner: Records R/W=40/1 > reduce\n",
      "2018-10-26 15:50:21,746 INFO mapred.Task: Task 'attempt_local349307639_0001_r_000000_0' done.\n",
      "2018-10-26 15:50:21,747 INFO mapred.Task: Final Counters for attempt_local349307639_0001_r_000000_0: Counters: 24\n",
      "\tFile System Counters\n",
      "\t\tFILE: Number of bytes read=178139\n",
      "\t\tFILE: Number of bytes written=683059\n",
      "\t\tFILE: Number of read operations=0\n",
      "\t\tFILE: Number of large read operations=0\n",
      "\t\tFILE: Number of write operations=0\n",
      "\tMap-Reduce Framework\n",
      "\t\tCombine input records=0\n",
      "\t\tCombine output records=0\n",
      "\t\tReduce input groups=5\n",
      "\t\tReduce shuffle bytes=406\n",
      "\t\tReduce input records=40\n",
      "\t\tReduce output records=5\n",
      "\t\tSpilled Records=40\n",
      "\t\tShuffled Maps =1\n",
      "\t\tFailed Shuffles=0\n",
      "\t\tMerged Map outputs=1\n",
      "\t\tGC time elapsed (ms)=28\n",
      "\t\tTotal committed heap usage (bytes)=214433792\n",
      "\tShuffle Errors\n",
      "\t\tBAD_ID=0\n",
      "\t\tCONNECTION=0\n",
      "\t\tIO_ERROR=0\n",
      "\t\tWRONG_LENGTH=0\n",
      "\t\tWRONG_MAP=0\n",
      "\t\tWRONG_REDUCE=0\n",
      "\tFile Output Format Counters \n",
      "\t\tBytes Written=89\n",
      "2018-10-26 15:50:21,748 INFO mapred.LocalJobRunner: Finishing task: attempt_local349307639_0001_r_000000_0\n",
      "2018-10-26 15:50:21,750 INFO mapred.LocalJobRunner: reduce task executor complete.\n",
      "2018-10-26 15:50:22,495 INFO mapreduce.Job:  map 100% reduce 100%\n",
      "2018-10-26 15:50:22,496 INFO mapreduce.Job: Job job_local349307639_0001 completed successfully\n",
      "2018-10-26 15:50:22,648 INFO mapreduce.Job: Counters: 30\n",
      "\tFile System Counters\n",
      "\t\tFILE: Number of bytes read=355434\n",
      "\t\tFILE: Number of bytes written=1365623\n",
      "\t\tFILE: Number of read operations=0\n",
      "\t\tFILE: Number of large read operations=0\n",
      "\t\tFILE: Number of write operations=0\n",
      "\tMap-Reduce Framework\n",
      "\t\tMap input records=40\n",
      "\t\tMap output records=40\n",
      "\t\tMap output bytes=320\n",
      "\t\tMap output materialized bytes=406\n",
      "\t\tInput split bytes=129\n",
      "\t\tCombine input records=0\n",
      "\t\tCombine output records=0\n",
      "\t\tReduce input groups=5\n",
      "\t\tReduce shuffle bytes=406\n",
      "\t\tReduce input records=40\n",
      "\t\tReduce output records=5\n",
      "\t\tSpilled Records=80\n",
      "\t\tShuffled Maps =1\n",
      "\t\tFailed Shuffles=0\n",
      "\t\tMerged Map outputs=1\n",
      "\t\tGC time elapsed (ms)=28\n",
      "\t\tTotal committed heap usage (bytes)=428867584\n",
      "\tShuffle Errors\n",
      "\t\tBAD_ID=0\n",
      "\t\tCONNECTION=0\n",
      "\t\tIO_ERROR=0\n",
      "\t\tWRONG_LENGTH=0\n",
      "\t\tWRONG_MAP=0\n",
      "\t\tWRONG_REDUCE=0\n",
      "\tFile Input Format Counters \n",
      "\t\tBytes Read=799\n",
      "\tFile Output Format Counters \n",
      "\t\tBytes Written=89\n",
      "2018-10-26 15:50:22,648 INFO streaming.StreamJob: Output directory: output\n"
     ]
    }
   ],
   "source": [
    "%%bash\n",
    "rm -rf output\n",
    "STREAM=$HADOOP_HOME/share/hadoop/tools/lib/hadoop-streaming-*.jar\n",
    "chmod +x mapper.py\n",
    "chmod +x reducer.py\n",
    "$HADOOP_HOME/bin/hadoop jar $STREAM -input input.txt -output output  -mapper mapper.py -reducer reducer.py\n",
    "cat output/part-00000"
   ]
  },
  {
   "cell_type": "code",
   "execution_count": null,
   "metadata": {},
   "outputs": [],
   "source": [
    "!rm -rf mapper.py reducer.py output input.txt"
   ]
  },
  {
   "cell_type": "markdown",
   "metadata": {},
   "source": [
    "---"
   ]
  },
  {
   "cell_type": "markdown",
   "metadata": {},
   "source": [
    "Para realizar la evaluación automática de este libro:\n",
    "\n",
    "* Abra un Terminal.\n",
    "* Asegurece que esat en la misma carpeta que contiene este notebook.\n",
    "* Salve el notebook.\n",
    "* Ejecute el siguiente comando:\n",
    "\n",
    "      ./gradetool 09-Taller.ipynb"
   ]
  },
  {
   "cell_type": "markdown",
   "metadata": {},
   "source": [
    "---"
   ]
  }
 ],
 "metadata": {
  "kernelspec": {
   "display_name": "Python 3",
   "language": "python",
   "name": "python3"
  },
  "language_info": {
   "codemirror_mode": {
    "name": "ipython",
    "version": 3
   },
   "file_extension": ".py",
   "mimetype": "text/x-python",
   "name": "python",
   "nbconvert_exporter": "python",
   "pygments_lexer": "ipython3",
   "version": "3.7.0"
  },
  "toc": {
   "base_numbering": 1,
   "nav_menu": {},
   "number_sections": false,
   "sideBar": true,
   "skip_h1_title": true,
   "title_cell": "Table of Contents",
   "title_sidebar": "Contents",
   "toc_cell": false,
   "toc_position": {},
   "toc_section_display": true,
   "toc_window_display": true
  },
  "toc-autonumbering": false
 },
 "nbformat": 4,
 "nbformat_minor": 2
}
