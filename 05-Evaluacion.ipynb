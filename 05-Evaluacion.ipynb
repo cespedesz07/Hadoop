{
 "cells": [
  {
   "cell_type": "markdown",
   "metadata": {},
   "source": [
    "**Recuerde no agregar o quitar celdas en este notebook, ni modificar su tipo. Si lo hace, el sistema automaticamente lo calificará con cero punto cero (0.0)**"
   ]
  },
  {
   "cell_type": "markdown",
   "metadata": {},
   "source": [
    "Obtenga la cantidad de registros por letra para el siguiente archivo."
   ]
  },
  {
   "cell_type": "code",
   "execution_count": 1,
   "metadata": {},
   "outputs": [
    {
     "name": "stdout",
     "output_type": "stream",
     "text": [
      "Overwriting input.txt\n"
     ]
    }
   ],
   "source": [
    "%%writefile input.txt\n",
    "B   1999-08-28   14\n",
    "E   1999-12-06   12\n",
    "E   1993-07-21   17\n",
    "C   1991-02-12   13\n",
    "E   1995-04-25   16\n",
    "A   1992-08-22   14\n",
    "B   1999-06-11   12\n",
    "E   1993-01-27   13\n",
    "E   1999-09-10   11\n",
    "E   1990-05-03   16\n",
    "E   1994-02-14   10\n",
    "A   1988-04-27   12\n",
    "A   1990-10-06   10\n",
    "E   1985-02-12   16\n",
    "E   1998-09-14   16\n",
    "B   1994-08-30   17\n",
    "A   1997-12-15   13\n",
    "B   1995-08-23   10\n",
    "B   1998-11-22   13\n",
    "B   1997-04-09   14\n",
    "E   1993-12-27   18\n",
    "E   1999-01-14   15\n",
    "A   1992-09-19   18\n",
    "B   1993-03-02   14\n",
    "B   1999-10-21   13\n",
    "A   1990-08-31   12\n",
    "C   1994-01-25   10\n",
    "E   1990-02-09   18\n",
    "A   1990-09-26   14\n",
    "A   1993-05-08   16\n",
    "B   1995-09-06   14\n",
    "E   1991-02-18   14\n",
    "A   1993-01-11   14\n",
    "A   1990-07-22   18\n",
    "C   1994-09-09   15\n",
    "C   1994-07-27   10\n",
    "D   1990-10-10   15\n",
    "A   1990-09-05   11\n",
    "B   1991-10-01   15\n",
    "A   1994-10-25   13"
   ]
  },
  {
   "cell_type": "markdown",
   "metadata": {},
   "source": [
    "## Mapper"
   ]
  },
  {
   "cell_type": "code",
   "execution_count": 2,
   "metadata": {},
   "outputs": [
    {
     "name": "stdout",
     "output_type": "stream",
     "text": [
      "Overwriting mapper.py\n"
     ]
    }
   ],
   "source": [
    "%%writefile mapper.py\n",
    "#! /usr/bin/env python\n",
    "\n",
    "import sys\n",
    "if __name__ == \"__main__\": \n",
    "    for line in sys.stdin:\n",
    "        sys.stdout.write( \"{}\\t{}\\n\".format(line.split()[0], line.split()[2]) )"
   ]
  },
  {
   "cell_type": "markdown",
   "metadata": {},
   "source": [
    "## Reducer"
   ]
  },
  {
   "cell_type": "code",
   "execution_count": 7,
   "metadata": {},
   "outputs": [
    {
     "name": "stdout",
     "output_type": "stream",
     "text": [
      "Overwriting reducer.py\n"
     ]
    }
   ],
   "source": [
    "%%writefile reducer.py\n",
    "#!/usr/bin/env python\n",
    "\n",
    "import sys\n",
    "if __name__ == '__main__': \n",
    "    \n",
    "    curKey = None\n",
    "    curCounter = 0\n",
    "    \n",
    "    for line in sys.stdin:\n",
    "        key, value = line.split(\"\\t\")\n",
    "        \n",
    "        if key == curKey:\n",
    "            curCounter += 1\n",
    "        else:\n",
    "            if curKey is not None:\n",
    "                sys.stdout.write(\"{}\\t{}\\n\".format(curKey, curCounter))\n",
    "                \n",
    "            curKey= key\n",
    "            curCounter = 1\n",
    "    sys.stdout.write(\"{}\\t{}\\n\".format(curKey, curCounter))"
   ]
  },
  {
   "cell_type": "markdown",
   "metadata": {},
   "source": [
    "## Ejecución"
   ]
  },
  {
   "cell_type": "code",
   "execution_count": 8,
   "metadata": {},
   "outputs": [
    {
     "name": "stdout",
     "output_type": "stream",
     "text": [
      "A\t12\n",
      "B\t10\n",
      "C\t4\n",
      "D\t1\n",
      "E\t13\n"
     ]
    },
    {
     "name": "stderr",
     "output_type": "stream",
     "text": [
      "Java HotSpot(TM) Server VM warning: You have loaded library /home/cespedesz07/hadoop-3.1.1/lib/native/libhadoop.so.1.0.0 which might have disabled stack guard. The VM will try to fix the stack guard now.\n",
      "It's highly recommended that you fix the library with 'execstack -c <libfile>', or link it with '-z noexecstack'.\n",
      "2018-10-27 01:07:11,188 WARN util.NativeCodeLoader: Unable to load native-hadoop library for your platform... using builtin-java classes where applicable\n",
      "2018-10-27 01:07:12,440 INFO impl.MetricsConfig: loaded properties from hadoop-metrics2.properties\n",
      "2018-10-27 01:07:12,607 INFO impl.MetricsSystemImpl: Scheduled Metric snapshot period at 10 second(s).\n",
      "2018-10-27 01:07:12,607 INFO impl.MetricsSystemImpl: JobTracker metrics system started\n",
      "2018-10-27 01:07:12,648 WARN impl.MetricsSystemImpl: JobTracker metrics system already initialized!\n",
      "2018-10-27 01:07:13,553 INFO mapred.FileInputFormat: Total input files to process : 1\n",
      "2018-10-27 01:07:13,663 INFO mapreduce.JobSubmitter: number of splits:1\n",
      "2018-10-27 01:07:14,010 INFO mapreduce.JobSubmitter: Submitting tokens for job: job_local707448229_0001\n",
      "2018-10-27 01:07:14,014 INFO mapreduce.JobSubmitter: Executing with tokens: []\n",
      "2018-10-27 01:07:14,437 INFO mapreduce.Job: The url to track the job: http://localhost:8080/\n",
      "2018-10-27 01:07:14,442 INFO mapred.LocalJobRunner: OutputCommitter set in config null\n",
      "2018-10-27 01:07:14,443 INFO mapreduce.Job: Running job: job_local707448229_0001\n",
      "2018-10-27 01:07:14,447 INFO mapred.LocalJobRunner: OutputCommitter is org.apache.hadoop.mapred.FileOutputCommitter\n",
      "2018-10-27 01:07:14,471 INFO output.FileOutputCommitter: File Output Committer Algorithm version is 2\n",
      "2018-10-27 01:07:14,471 INFO output.FileOutputCommitter: FileOutputCommitter skip cleanup _temporary folders under output directory:false, ignore cleanup failures: false\n",
      "2018-10-27 01:07:14,579 INFO mapred.LocalJobRunner: Waiting for map tasks\n",
      "2018-10-27 01:07:14,590 INFO mapred.LocalJobRunner: Starting task: attempt_local707448229_0001_m_000000_0\n",
      "2018-10-27 01:07:14,664 INFO output.FileOutputCommitter: File Output Committer Algorithm version is 2\n",
      "2018-10-27 01:07:14,665 INFO output.FileOutputCommitter: FileOutputCommitter skip cleanup _temporary folders under output directory:false, ignore cleanup failures: false\n",
      "2018-10-27 01:07:14,708 INFO mapred.Task:  Using ResourceCalculatorProcessTree : [ ]\n",
      "2018-10-27 01:07:14,723 INFO mapred.MapTask: Processing split: file:/home/cespedesz07/Documentos/Projects/mod-0-hadoop-cespedesz07/input.txt:0+799\n",
      "2018-10-27 01:07:14,743 INFO mapred.MapTask: numReduceTasks: 1\n",
      "2018-10-27 01:07:14,859 INFO mapred.MapTask: (EQUATOR) 0 kvi 26214396(104857584)\n",
      "2018-10-27 01:07:14,859 INFO mapred.MapTask: mapreduce.task.io.sort.mb: 100\n",
      "2018-10-27 01:07:14,859 INFO mapred.MapTask: soft limit at 83886080\n",
      "2018-10-27 01:07:14,859 INFO mapred.MapTask: bufstart = 0; bufvoid = 104857600\n",
      "2018-10-27 01:07:14,859 INFO mapred.MapTask: kvstart = 26214396; length = 6553600\n",
      "2018-10-27 01:07:14,865 INFO mapred.MapTask: Map output collector class = org.apache.hadoop.mapred.MapTask$MapOutputBuffer\n",
      "2018-10-27 01:07:14,875 INFO streaming.PipeMapRed: PipeMapRed exec [/home/cespedesz07/Documentos/Projects/mod-0-hadoop-cespedesz07/./mapper.py]\n",
      "2018-10-27 01:07:14,888 INFO Configuration.deprecation: mapred.work.output.dir is deprecated. Instead, use mapreduce.task.output.dir\n",
      "2018-10-27 01:07:14,890 INFO Configuration.deprecation: map.input.start is deprecated. Instead, use mapreduce.map.input.start\n",
      "2018-10-27 01:07:14,892 INFO Configuration.deprecation: mapred.task.is.map is deprecated. Instead, use mapreduce.task.ismap\n",
      "2018-10-27 01:07:14,892 INFO Configuration.deprecation: mapred.task.id is deprecated. Instead, use mapreduce.task.attempt.id\n",
      "2018-10-27 01:07:14,894 INFO Configuration.deprecation: mapred.tip.id is deprecated. Instead, use mapreduce.task.id\n",
      "2018-10-27 01:07:14,894 INFO Configuration.deprecation: mapred.local.dir is deprecated. Instead, use mapreduce.cluster.local.dir\n",
      "2018-10-27 01:07:14,895 INFO Configuration.deprecation: map.input.file is deprecated. Instead, use mapreduce.map.input.file\n",
      "2018-10-27 01:07:14,896 INFO Configuration.deprecation: mapred.skip.on is deprecated. Instead, use mapreduce.job.skiprecords\n",
      "2018-10-27 01:07:14,897 INFO Configuration.deprecation: map.input.length is deprecated. Instead, use mapreduce.map.input.length\n",
      "2018-10-27 01:07:14,899 INFO Configuration.deprecation: mapred.job.id is deprecated. Instead, use mapreduce.job.id\n",
      "2018-10-27 01:07:14,899 INFO Configuration.deprecation: user.name is deprecated. Instead, use mapreduce.job.user.name\n",
      "2018-10-27 01:07:14,900 INFO Configuration.deprecation: mapred.task.partition is deprecated. Instead, use mapreduce.task.partition\n",
      "2018-10-27 01:07:14,941 INFO streaming.PipeMapRed: R/W/S=1/0/0 in:NA [rec/s] out:NA [rec/s]\n",
      "2018-10-27 01:07:14,942 INFO streaming.PipeMapRed: R/W/S=10/0/0 in:NA [rec/s] out:NA [rec/s]\n",
      "2018-10-27 01:07:14,992 INFO streaming.PipeMapRed: Records R/W=40/1\n",
      "2018-10-27 01:07:14,995 INFO streaming.PipeMapRed: MRErrorThread done\n",
      "2018-10-27 01:07:14,996 INFO streaming.PipeMapRed: mapRedFinished\n",
      "2018-10-27 01:07:15,001 INFO mapred.LocalJobRunner: \n",
      "2018-10-27 01:07:15,001 INFO mapred.MapTask: Starting flush of map output\n",
      "2018-10-27 01:07:15,001 INFO mapred.MapTask: Spilling map output\n",
      "2018-10-27 01:07:15,001 INFO mapred.MapTask: bufstart = 0; bufend = 200; bufvoid = 104857600\n",
      "2018-10-27 01:07:15,002 INFO mapred.MapTask: kvstart = 26214396(104857584); kvend = 26214240(104856960); length = 157/6553600\n",
      "2018-10-27 01:07:15,030 INFO mapred.MapTask: Finished spill 0\n",
      "2018-10-27 01:07:15,068 INFO mapred.Task: Task:attempt_local707448229_0001_m_000000_0 is done. And is in the process of committing\n",
      "2018-10-27 01:07:15,073 INFO mapred.LocalJobRunner: Records R/W=40/1\n",
      "2018-10-27 01:07:15,074 INFO mapred.Task: Task 'attempt_local707448229_0001_m_000000_0' done.\n",
      "2018-10-27 01:07:15,097 INFO mapred.Task: Final Counters for attempt_local707448229_0001_m_000000_0: Counters: 17\n",
      "\tFile System Counters\n",
      "\t\tFILE: Number of bytes read=177295\n",
      "\t\tFILE: Number of bytes written=682444\n",
      "\t\tFILE: Number of read operations=0\n",
      "\t\tFILE: Number of large read operations=0\n",
      "\t\tFILE: Number of write operations=0\n",
      "\tMap-Reduce Framework\n",
      "\t\tMap input records=40\n",
      "\t\tMap output records=40\n",
      "\t\tMap output bytes=200\n",
      "\t\tMap output materialized bytes=286\n",
      "\t\tInput split bytes=129\n",
      "\t\tCombine input records=0\n",
      "\t\tSpilled Records=40\n",
      "\t\tFailed Shuffles=0\n",
      "\t\tMerged Map outputs=0\n",
      "\t\tGC time elapsed (ms)=0\n",
      "\t\tTotal committed heap usage (bytes)=214433792\n",
      "\tFile Input Format Counters \n",
      "\t\tBytes Read=799\n",
      "2018-10-27 01:07:15,097 INFO mapred.LocalJobRunner: Finishing task: attempt_local707448229_0001_m_000000_0\n",
      "2018-10-27 01:07:15,100 INFO mapred.LocalJobRunner: map task executor complete.\n",
      "2018-10-27 01:07:15,106 INFO mapred.LocalJobRunner: Waiting for reduce tasks\n",
      "2018-10-27 01:07:15,106 INFO mapred.LocalJobRunner: Starting task: attempt_local707448229_0001_r_000000_0\n",
      "2018-10-27 01:07:15,122 INFO output.FileOutputCommitter: File Output Committer Algorithm version is 2\n",
      "2018-10-27 01:07:15,122 INFO output.FileOutputCommitter: FileOutputCommitter skip cleanup _temporary folders under output directory:false, ignore cleanup failures: false\n",
      "2018-10-27 01:07:15,123 INFO mapred.Task:  Using ResourceCalculatorProcessTree : [ ]\n",
      "2018-10-27 01:07:15,130 INFO mapred.ReduceTask: Using ShuffleConsumerPlugin: org.apache.hadoop.mapreduce.task.reduce.Shuffle@95f839\n",
      "2018-10-27 01:07:15,135 WARN impl.MetricsSystemImpl: JobTracker metrics system already initialized!\n",
      "2018-10-27 01:07:15,173 INFO reduce.MergeManagerImpl: MergerManager: memoryLimit=605552640, maxSingleShuffleLimit=151388160, mergeThreshold=399664768, ioSortFactor=10, memToMemMergeOutputsThreshold=10\n",
      "2018-10-27 01:07:15,180 INFO reduce.EventFetcher: attempt_local707448229_0001_r_000000_0 Thread started: EventFetcher for fetching Map Completion Events\n",
      "2018-10-27 01:07:15,239 INFO reduce.LocalFetcher: localfetcher#1 about to shuffle output of map attempt_local707448229_0001_m_000000_0 decomp: 282 len: 286 to MEMORY\n",
      "2018-10-27 01:07:15,246 INFO reduce.InMemoryMapOutput: Read 282 bytes from map-output for attempt_local707448229_0001_m_000000_0\n",
      "2018-10-27 01:07:15,249 INFO reduce.MergeManagerImpl: closeInMemoryFile -> map-output of size: 282, inMemoryMapOutputs.size() -> 1, commitMemory -> 0, usedMemory ->282\n",
      "2018-10-27 01:07:15,251 INFO reduce.EventFetcher: EventFetcher is interrupted.. Returning\n",
      "2018-10-27 01:07:15,253 INFO mapred.LocalJobRunner: 1 / 1 copied.\n",
      "2018-10-27 01:07:15,254 INFO reduce.MergeManagerImpl: finalMerge called with 1 in-memory map-outputs and 0 on-disk map-outputs\n",
      "2018-10-27 01:07:15,273 INFO mapred.Merger: Merging 1 sorted segments\n",
      "2018-10-27 01:07:15,274 INFO mapred.Merger: Down to the last merge-pass, with 1 segments left of total size: 278 bytes\n",
      "2018-10-27 01:07:15,284 INFO reduce.MergeManagerImpl: Merged 1 segments, 282 bytes to disk to satisfy reduce memory limit\n",
      "2018-10-27 01:07:15,286 INFO reduce.MergeManagerImpl: Merging 1 files, 286 bytes from disk\n",
      "2018-10-27 01:07:15,288 INFO reduce.MergeManagerImpl: Merging 0 segments, 0 bytes from memory into reduce\n",
      "2018-10-27 01:07:15,288 INFO mapred.Merger: Merging 1 sorted segments\n",
      "2018-10-27 01:07:15,290 INFO mapred.Merger: Down to the last merge-pass, with 1 segments left of total size: 278 bytes\n",
      "2018-10-27 01:07:15,293 INFO mapred.LocalJobRunner: 1 / 1 copied.\n",
      "2018-10-27 01:07:15,307 INFO streaming.PipeMapRed: PipeMapRed exec [/home/cespedesz07/Documentos/Projects/mod-0-hadoop-cespedesz07/./reducer.py]\n",
      "2018-10-27 01:07:15,315 INFO Configuration.deprecation: mapred.job.tracker is deprecated. Instead, use mapreduce.jobtracker.address\n",
      "2018-10-27 01:07:15,317 INFO Configuration.deprecation: mapred.map.tasks is deprecated. Instead, use mapreduce.job.maps\n",
      "2018-10-27 01:07:15,378 INFO streaming.PipeMapRed: R/W/S=1/0/0 in:NA [rec/s] out:NA [rec/s]\n",
      "2018-10-27 01:07:15,379 INFO streaming.PipeMapRed: R/W/S=10/0/0 in:NA [rec/s] out:NA [rec/s]\n",
      "2018-10-27 01:07:15,417 INFO streaming.PipeMapRed: Records R/W=40/1\n",
      "2018-10-27 01:07:15,421 INFO streaming.PipeMapRed: MRErrorThread done\n",
      "2018-10-27 01:07:15,422 INFO streaming.PipeMapRed: mapRedFinished\n",
      "2018-10-27 01:07:15,423 INFO mapred.Task: Task:attempt_local707448229_0001_r_000000_0 is done. And is in the process of committing\n",
      "2018-10-27 01:07:15,425 INFO mapred.LocalJobRunner: 1 / 1 copied.\n",
      "2018-10-27 01:07:15,425 INFO mapred.Task: Task attempt_local707448229_0001_r_000000_0 is allowed to commit now\n",
      "2018-10-27 01:07:15,428 INFO output.FileOutputCommitter: Saved output of task 'attempt_local707448229_0001_r_000000_0' to file:/home/cespedesz07/Documentos/Projects/mod-0-hadoop-cespedesz07/output\n",
      "2018-10-27 01:07:15,430 INFO mapred.LocalJobRunner: Records R/W=40/1 > reduce\n",
      "2018-10-27 01:07:15,430 INFO mapred.Task: Task 'attempt_local707448229_0001_r_000000_0' done.\n",
      "2018-10-27 01:07:15,431 INFO mapred.Task: Final Counters for attempt_local707448229_0001_r_000000_0: Counters: 24\n",
      "\tFile System Counters\n",
      "\t\tFILE: Number of bytes read=177899\n",
      "\t\tFILE: Number of bytes written=682765\n",
      "\t\tFILE: Number of read operations=0\n",
      "\t\tFILE: Number of large read operations=0\n",
      "\t\tFILE: Number of write operations=0\n",
      "\tMap-Reduce Framework\n",
      "\t\tCombine input records=0\n",
      "\t\tCombine output records=0\n",
      "\t\tReduce input groups=5\n",
      "\t\tReduce shuffle bytes=286\n",
      "\t\tReduce input records=40\n",
      "\t\tReduce output records=5\n",
      "\t\tSpilled Records=40\n",
      "\t\tShuffled Maps =1\n",
      "\t\tFailed Shuffles=0\n",
      "\t\tMerged Map outputs=1\n",
      "\t\tGC time elapsed (ms)=21\n",
      "\t\tTotal committed heap usage (bytes)=214433792\n",
      "\tShuffle Errors\n",
      "\t\tBAD_ID=0\n",
      "\t\tCONNECTION=0\n",
      "\t\tIO_ERROR=0\n",
      "\t\tWRONG_LENGTH=0\n",
      "\t\tWRONG_MAP=0\n",
      "\t\tWRONG_REDUCE=0\n",
      "\tFile Output Format Counters \n",
      "\t\tBytes Written=35\n",
      "2018-10-27 01:07:15,432 INFO mapred.LocalJobRunner: Finishing task: attempt_local707448229_0001_r_000000_0\n",
      "2018-10-27 01:07:15,432 INFO mapred.LocalJobRunner: reduce task executor complete.\n",
      "2018-10-27 01:07:15,455 INFO mapreduce.Job: Job job_local707448229_0001 running in uber mode : false\n",
      "2018-10-27 01:07:15,457 INFO mapreduce.Job:  map 100% reduce 100%\n",
      "2018-10-27 01:07:15,459 INFO mapreduce.Job: Job job_local707448229_0001 completed successfully\n",
      "2018-10-27 01:07:15,489 INFO mapreduce.Job: Counters: 30\n",
      "\tFile System Counters\n",
      "\t\tFILE: Number of bytes read=355194\n",
      "\t\tFILE: Number of bytes written=1365209\n",
      "\t\tFILE: Number of read operations=0\n",
      "\t\tFILE: Number of large read operations=0\n",
      "\t\tFILE: Number of write operations=0\n",
      "\tMap-Reduce Framework\n",
      "\t\tMap input records=40\n",
      "\t\tMap output records=40\n",
      "\t\tMap output bytes=200\n",
      "\t\tMap output materialized bytes=286\n",
      "\t\tInput split bytes=129\n",
      "\t\tCombine input records=0\n",
      "\t\tCombine output records=0\n",
      "\t\tReduce input groups=5\n",
      "\t\tReduce shuffle bytes=286\n",
      "\t\tReduce input records=40\n",
      "\t\tReduce output records=5\n",
      "\t\tSpilled Records=80\n",
      "\t\tShuffled Maps =1\n",
      "\t\tFailed Shuffles=0\n",
      "\t\tMerged Map outputs=1\n",
      "\t\tGC time elapsed (ms)=21\n",
      "\t\tTotal committed heap usage (bytes)=428867584\n",
      "\tShuffle Errors\n",
      "\t\tBAD_ID=0\n",
      "\t\tCONNECTION=0\n",
      "\t\tIO_ERROR=0\n",
      "\t\tWRONG_LENGTH=0\n",
      "\t\tWRONG_MAP=0\n",
      "\t\tWRONG_REDUCE=0\n",
      "\tFile Input Format Counters \n",
      "\t\tBytes Read=799\n",
      "\tFile Output Format Counters \n",
      "\t\tBytes Written=35\n",
      "2018-10-27 01:07:15,489 INFO streaming.StreamJob: Output directory: output\n"
     ]
    }
   ],
   "source": [
    "%%bash\n",
    "rm -rf output\n",
    "STREAM=$HADOOP_HOME/share/hadoop/tools/lib/hadoop-streaming-*.jar\n",
    "chmod +x mapper.py\n",
    "chmod +x reducer.py\n",
    "$HADOOP_HOME/bin/hadoop jar $STREAM -input input.txt -output output -mapper mapper.py -reducer reducer.py\n",
    "cat output/part-00000"
   ]
  },
  {
   "cell_type": "code",
   "execution_count": 5,
   "metadata": {},
   "outputs": [],
   "source": [
    "!rm -rf mapper.py reducer.py output input.txt"
   ]
  },
  {
   "cell_type": "markdown",
   "metadata": {},
   "source": [
    "---"
   ]
  },
  {
   "cell_type": "markdown",
   "metadata": {},
   "source": [
    "Para realizar la evaluación automática de este libro:\n",
    "\n",
    "* Abra un Terminal.\n",
    "* Asegurece que esat en la misma carpeta que contiene este notebook.\n",
    "* Salve el notebook.\n",
    "* Ejecute el siguiente comando:\n",
    "\n",
    "      ./gradetool 05-Taller.ipynb"
   ]
  },
  {
   "cell_type": "markdown",
   "metadata": {},
   "source": [
    "---"
   ]
  }
 ],
 "metadata": {
  "kernelspec": {
   "display_name": "Python 3",
   "language": "python",
   "name": "python3"
  },
  "language_info": {
   "codemirror_mode": {
    "name": "ipython",
    "version": 3
   },
   "file_extension": ".py",
   "mimetype": "text/x-python",
   "name": "python",
   "nbconvert_exporter": "python",
   "pygments_lexer": "ipython3",
   "version": "3.7.0"
  },
  "toc": {
   "base_numbering": 1,
   "nav_menu": {},
   "number_sections": false,
   "sideBar": true,
   "skip_h1_title": true,
   "title_cell": "Table of Contents",
   "title_sidebar": "Contents",
   "toc_cell": false,
   "toc_position": {},
   "toc_section_display": true,
   "toc_window_display": true
  },
  "toc-autonumbering": false
 },
 "nbformat": 4,
 "nbformat_minor": 2
}
