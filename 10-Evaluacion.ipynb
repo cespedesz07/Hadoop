{
 "cells": [
  {
   "cell_type": "markdown",
   "metadata": {},
   "source": [
    "**Recuerde no agregar o quitar celdas en este notebook, ni modificar su tipo. Si lo hace, el sistema automaticamente lo calificará con cero punto cero (0.0)**"
   ]
  },
  {
   "cell_type": "markdown",
   "metadata": {},
   "source": [
    "Obtenga los 5 registros con valores más pequeños en la tercera columna."
   ]
  },
  {
   "cell_type": "code",
   "execution_count": 1,
   "metadata": {},
   "outputs": [
    {
     "name": "stdout",
     "output_type": "stream",
     "text": [
      "Overwriting input.txt\n"
     ]
    }
   ],
   "source": [
    "%%writefile input.txt\n",
    "B   1999-08-28   14\n",
    "E   1999-12-06   121\n",
    "E   1993-07-21   17\n",
    "C   1991-02-12   2\n",
    "E   1995-04-25   161\n",
    "A   1992-08-22   14\n",
    "B   1999-06-11   12\n",
    "E   1993-01-27   8\n",
    "E   1999-09-10   11\n",
    "E   1990-05-03   16\n",
    "E   1994-02-14   101\n",
    "A   1988-04-27   9\n",
    "A   1990-10-06   10\n",
    "E   1985-02-12   16\n",
    "E   1998-09-14   7\n",
    "B   1994-08-30   17\n",
    "A   1997-12-15   13\n",
    "B   1995-08-23   101\n",
    "B   1998-11-22   13\n",
    "B   1997-04-09   6\n",
    "E   1993-12-27   181\n",
    "E   1999-01-14   15\n",
    "A   1992-09-19   18\n",
    "B   1993-03-02   14\n",
    "B   1999-10-21   131\n",
    "A   1990-08-31   12\n",
    "C   1994-01-25   10\n",
    "E   1990-02-09   18\n",
    "A   1990-09-26   5\n",
    "A   1993-05-08   16\n",
    "B   1995-09-06   141\n",
    "E   1991-02-18   14\n",
    "A   1993-01-11   141\n",
    "A   1990-07-22   4\n",
    "C   1994-09-09   151\n",
    "C   1994-07-27   1\n",
    "D   1990-10-10   151\n",
    "A   1990-09-05   11\n",
    "B   1991-10-01   151\n",
    "A   1994-10-25   13"
   ]
  },
  {
   "cell_type": "markdown",
   "metadata": {},
   "source": [
    "## Mapper"
   ]
  },
  {
   "cell_type": "code",
   "execution_count": 4,
   "metadata": {},
   "outputs": [
    {
     "name": "stdout",
     "output_type": "stream",
     "text": [
      "Overwriting mapper.py\n"
     ]
    }
   ],
   "source": [
    "%%writefile mapper.py\n",
    "#! /usr/bin/env python\n",
    "\n",
    "import sys\n",
    "if __name__ == \"__main__\": \n",
    "    for line in sys.stdin:\n",
    "        splitLine = line.split()\n",
    "        sys.stdout.write( \"{}\\t{}\\t{}\\n\".format( splitLine[0], splitLine[1], splitLine[2] ) )"
   ]
  },
  {
   "cell_type": "markdown",
   "metadata": {},
   "source": [
    "## Reducer"
   ]
  },
  {
   "cell_type": "code",
   "execution_count": 9,
   "metadata": {},
   "outputs": [
    {
     "name": "stdout",
     "output_type": "stream",
     "text": [
      "Overwriting reducer.py\n"
     ]
    }
   ],
   "source": [
    "%%writefile reducer.py\n",
    "#!/usr/bin/env python\n",
    "\n",
    "import sys\n",
    "from operator import itemgetter\n",
    "if __name__ == '__main__':\n",
    "    \n",
    "    tuplesList = []\n",
    "    \n",
    "    for line in sys.stdin:\n",
    "        tuplesList.append( tuple( line.strip().split(\"\\t\") ) )\n",
    "    # La lista de tuplas se ordenará por la columna 0 (las letras) y la columna 2 de enteros (los números)\n",
    "    # con una función lambda\n",
    "    sortedList = sorted( tuplesList, key=lambda row: int(row[2]) )\n",
    "    for i in range(6):\n",
    "        tupleItem = sortedList[i]\n",
    "        sys.stdout.write( \"{}   {}   {}\\n\".format(tupleItem[0], tupleItem[1], tupleItem[2]) )"
   ]
  },
  {
   "cell_type": "markdown",
   "metadata": {},
   "source": [
    "## Ejecución"
   ]
  },
  {
   "cell_type": "code",
   "execution_count": 10,
   "metadata": {},
   "outputs": [
    {
     "name": "stdout",
     "output_type": "stream",
     "text": [
      "C   1994-07-27   1\t\n",
      "C   1991-02-12   2\t\n",
      "A   1990-07-22   4\t\n",
      "A   1990-09-26   5\t\n",
      "B   1997-04-09   6\t\n",
      "E   1998-09-14   7\t\n"
     ]
    },
    {
     "name": "stderr",
     "output_type": "stream",
     "text": [
      "Java HotSpot(TM) Server VM warning: You have loaded library /home/cespedesz07/hadoop-3.1.1/lib/native/libhadoop.so.1.0.0 which might have disabled stack guard. The VM will try to fix the stack guard now.\n",
      "It's highly recommended that you fix the library with 'execstack -c <libfile>', or link it with '-z noexecstack'.\n",
      "2018-11-19 01:54:52,927 WARN util.NativeCodeLoader: Unable to load native-hadoop library for your platform... using builtin-java classes where applicable\n",
      "2018-11-19 01:54:54,127 INFO impl.MetricsConfig: loaded properties from hadoop-metrics2.properties\n",
      "2018-11-19 01:54:54,269 INFO impl.MetricsSystemImpl: Scheduled Metric snapshot period at 10 second(s).\n",
      "2018-11-19 01:54:54,269 INFO impl.MetricsSystemImpl: JobTracker metrics system started\n",
      "2018-11-19 01:54:54,308 WARN impl.MetricsSystemImpl: JobTracker metrics system already initialized!\n",
      "2018-11-19 01:54:55,194 INFO mapred.FileInputFormat: Total input files to process : 1\n",
      "2018-11-19 01:54:55,257 INFO mapreduce.JobSubmitter: number of splits:1\n",
      "2018-11-19 01:54:55,591 INFO mapreduce.JobSubmitter: Submitting tokens for job: job_local585593286_0001\n",
      "2018-11-19 01:54:55,595 INFO mapreduce.JobSubmitter: Executing with tokens: []\n",
      "2018-11-19 01:54:55,979 INFO mapreduce.Job: The url to track the job: http://localhost:8080/\n",
      "2018-11-19 01:54:55,983 INFO mapred.LocalJobRunner: OutputCommitter set in config null\n",
      "2018-11-19 01:54:55,983 INFO mapreduce.Job: Running job: job_local585593286_0001\n",
      "2018-11-19 01:54:55,986 INFO mapred.LocalJobRunner: OutputCommitter is org.apache.hadoop.mapred.FileOutputCommitter\n",
      "2018-11-19 01:54:55,994 INFO output.FileOutputCommitter: File Output Committer Algorithm version is 2\n",
      "2018-11-19 01:54:55,994 INFO output.FileOutputCommitter: FileOutputCommitter skip cleanup _temporary folders under output directory:false, ignore cleanup failures: false\n",
      "2018-11-19 01:54:56,080 INFO mapred.LocalJobRunner: Waiting for map tasks\n",
      "2018-11-19 01:54:56,087 INFO mapred.LocalJobRunner: Starting task: attempt_local585593286_0001_m_000000_0\n",
      "2018-11-19 01:54:56,145 INFO output.FileOutputCommitter: File Output Committer Algorithm version is 2\n",
      "2018-11-19 01:54:56,145 INFO output.FileOutputCommitter: FileOutputCommitter skip cleanup _temporary folders under output directory:false, ignore cleanup failures: false\n",
      "2018-11-19 01:54:56,215 INFO mapred.Task:  Using ResourceCalculatorProcessTree : [ ]\n",
      "2018-11-19 01:54:56,230 INFO mapred.MapTask: Processing split: file:/home/cespedesz07/Documents/Projects/mod-0-hadoop-cespedesz07/input.txt:0+802\n",
      "2018-11-19 01:54:56,252 INFO mapred.MapTask: numReduceTasks: 1\n",
      "2018-11-19 01:54:56,364 INFO mapred.MapTask: (EQUATOR) 0 kvi 26214396(104857584)\n",
      "2018-11-19 01:54:56,364 INFO mapred.MapTask: mapreduce.task.io.sort.mb: 100\n",
      "2018-11-19 01:54:56,364 INFO mapred.MapTask: soft limit at 83886080\n",
      "2018-11-19 01:54:56,365 INFO mapred.MapTask: bufstart = 0; bufvoid = 104857600\n",
      "2018-11-19 01:54:56,365 INFO mapred.MapTask: kvstart = 26214396; length = 6553600\n",
      "2018-11-19 01:54:56,370 INFO mapred.MapTask: Map output collector class = org.apache.hadoop.mapred.MapTask$MapOutputBuffer\n",
      "2018-11-19 01:54:56,380 INFO streaming.PipeMapRed: PipeMapRed exec [/home/cespedesz07/Documents/Projects/mod-0-hadoop-cespedesz07/./mapper.py]\n",
      "2018-11-19 01:54:56,394 INFO Configuration.deprecation: mapred.work.output.dir is deprecated. Instead, use mapreduce.task.output.dir\n",
      "2018-11-19 01:54:56,395 INFO Configuration.deprecation: map.input.start is deprecated. Instead, use mapreduce.map.input.start\n",
      "2018-11-19 01:54:56,397 INFO Configuration.deprecation: mapred.task.is.map is deprecated. Instead, use mapreduce.task.ismap\n",
      "2018-11-19 01:54:56,397 INFO Configuration.deprecation: mapred.task.id is deprecated. Instead, use mapreduce.task.attempt.id\n",
      "2018-11-19 01:54:56,399 INFO Configuration.deprecation: mapred.tip.id is deprecated. Instead, use mapreduce.task.id\n",
      "2018-11-19 01:54:56,399 INFO Configuration.deprecation: mapred.local.dir is deprecated. Instead, use mapreduce.cluster.local.dir\n",
      "2018-11-19 01:54:56,399 INFO Configuration.deprecation: map.input.file is deprecated. Instead, use mapreduce.map.input.file\n",
      "2018-11-19 01:54:56,400 INFO Configuration.deprecation: mapred.skip.on is deprecated. Instead, use mapreduce.job.skiprecords\n",
      "2018-11-19 01:54:56,400 INFO Configuration.deprecation: map.input.length is deprecated. Instead, use mapreduce.map.input.length\n",
      "2018-11-19 01:54:56,401 INFO Configuration.deprecation: mapred.job.id is deprecated. Instead, use mapreduce.job.id\n",
      "2018-11-19 01:54:56,402 INFO Configuration.deprecation: user.name is deprecated. Instead, use mapreduce.job.user.name\n",
      "2018-11-19 01:54:56,402 INFO Configuration.deprecation: mapred.task.partition is deprecated. Instead, use mapreduce.task.partition\n",
      "2018-11-19 01:54:56,442 INFO streaming.PipeMapRed: R/W/S=1/0/0 in:NA [rec/s] out:NA [rec/s]\n",
      "2018-11-19 01:54:56,442 INFO streaming.PipeMapRed: R/W/S=10/0/0 in:NA [rec/s] out:NA [rec/s]\n",
      "2018-11-19 01:54:56,496 INFO streaming.PipeMapRed: Records R/W=40/1\n",
      "2018-11-19 01:54:56,500 INFO streaming.PipeMapRed: MRErrorThread done\n",
      "2018-11-19 01:54:56,501 INFO streaming.PipeMapRed: mapRedFinished\n",
      "2018-11-19 01:54:56,506 INFO mapred.LocalJobRunner: \n",
      "2018-11-19 01:54:56,506 INFO mapred.MapTask: Starting flush of map output\n",
      "2018-11-19 01:54:56,506 INFO mapred.MapTask: Spilling map output\n",
      "2018-11-19 01:54:56,506 INFO mapred.MapTask: bufstart = 0; bufend = 643; bufvoid = 104857600\n",
      "2018-11-19 01:54:56,506 INFO mapred.MapTask: kvstart = 26214396(104857584); kvend = 26214240(104856960); length = 157/6553600\n",
      "2018-11-19 01:54:56,534 INFO mapred.MapTask: Finished spill 0\n",
      "2018-11-19 01:54:56,568 INFO mapred.Task: Task:attempt_local585593286_0001_m_000000_0 is done. And is in the process of committing\n",
      "2018-11-19 01:54:56,574 INFO mapred.LocalJobRunner: Records R/W=40/1\n",
      "2018-11-19 01:54:56,574 INFO mapred.Task: Task 'attempt_local585593286_0001_m_000000_0' done.\n",
      "2018-11-19 01:54:56,597 INFO mapred.Task: Final Counters for attempt_local585593286_0001_m_000000_0: Counters: 17\n",
      "\tFile System Counters\n",
      "\t\tFILE: Number of bytes read=177297\n",
      "\t\tFILE: Number of bytes written=682880\n",
      "\t\tFILE: Number of read operations=0\n",
      "\t\tFILE: Number of large read operations=0\n",
      "\t\tFILE: Number of write operations=0\n",
      "\tMap-Reduce Framework\n",
      "\t\tMap input records=40\n",
      "\t\tMap output records=40\n",
      "\t\tMap output bytes=643\n",
      "\t\tMap output materialized bytes=729\n",
      "\t\tInput split bytes=128\n",
      "\t\tCombine input records=0\n",
      "\t\tSpilled Records=40\n",
      "\t\tFailed Shuffles=0\n",
      "\t\tMerged Map outputs=0\n",
      "\t\tGC time elapsed (ms)=25\n",
      "\t\tTotal committed heap usage (bytes)=209977344\n",
      "\tFile Input Format Counters \n",
      "\t\tBytes Read=802\n",
      "2018-11-19 01:54:56,598 INFO mapred.LocalJobRunner: Finishing task: attempt_local585593286_0001_m_000000_0\n",
      "2018-11-19 01:54:56,600 INFO mapred.LocalJobRunner: map task executor complete.\n",
      "2018-11-19 01:54:56,605 INFO mapred.LocalJobRunner: Waiting for reduce tasks\n",
      "2018-11-19 01:54:56,606 INFO mapred.LocalJobRunner: Starting task: attempt_local585593286_0001_r_000000_0\n",
      "2018-11-19 01:54:56,621 INFO output.FileOutputCommitter: File Output Committer Algorithm version is 2\n",
      "2018-11-19 01:54:56,621 INFO output.FileOutputCommitter: FileOutputCommitter skip cleanup _temporary folders under output directory:false, ignore cleanup failures: false\n",
      "2018-11-19 01:54:56,622 INFO mapred.Task:  Using ResourceCalculatorProcessTree : [ ]\n",
      "2018-11-19 01:54:56,631 INFO mapred.ReduceTask: Using ShuffleConsumerPlugin: org.apache.hadoop.mapreduce.task.reduce.Shuffle@1d15d7d\n",
      "2018-11-19 01:54:56,636 WARN impl.MetricsSystemImpl: JobTracker metrics system already initialized!\n",
      "2018-11-19 01:54:56,675 INFO reduce.MergeManagerImpl: MergerManager: memoryLimit=605552640, maxSingleShuffleLimit=151388160, mergeThreshold=399664768, ioSortFactor=10, memToMemMergeOutputsThreshold=10\n",
      "2018-11-19 01:54:56,680 INFO reduce.EventFetcher: attempt_local585593286_0001_r_000000_0 Thread started: EventFetcher for fetching Map Completion Events\n",
      "2018-11-19 01:54:56,736 INFO reduce.LocalFetcher: localfetcher#1 about to shuffle output of map attempt_local585593286_0001_m_000000_0 decomp: 725 len: 729 to MEMORY\n",
      "2018-11-19 01:54:56,741 INFO reduce.InMemoryMapOutput: Read 725 bytes from map-output for attempt_local585593286_0001_m_000000_0\n",
      "2018-11-19 01:54:56,744 INFO reduce.MergeManagerImpl: closeInMemoryFile -> map-output of size: 725, inMemoryMapOutputs.size() -> 1, commitMemory -> 0, usedMemory ->725\n",
      "2018-11-19 01:54:56,746 INFO reduce.EventFetcher: EventFetcher is interrupted.. Returning\n",
      "2018-11-19 01:54:56,748 INFO mapred.LocalJobRunner: 1 / 1 copied.\n",
      "2018-11-19 01:54:56,749 INFO reduce.MergeManagerImpl: finalMerge called with 1 in-memory map-outputs and 0 on-disk map-outputs\n",
      "2018-11-19 01:54:56,765 INFO mapred.Merger: Merging 1 sorted segments\n",
      "2018-11-19 01:54:56,766 INFO mapred.Merger: Down to the last merge-pass, with 1 segments left of total size: 721 bytes\n",
      "2018-11-19 01:54:56,783 INFO reduce.MergeManagerImpl: Merged 1 segments, 725 bytes to disk to satisfy reduce memory limit\n",
      "2018-11-19 01:54:56,784 INFO reduce.MergeManagerImpl: Merging 1 files, 729 bytes from disk\n",
      "2018-11-19 01:54:56,786 INFO reduce.MergeManagerImpl: Merging 0 segments, 0 bytes from memory into reduce\n",
      "2018-11-19 01:54:56,786 INFO mapred.Merger: Merging 1 sorted segments\n",
      "2018-11-19 01:54:56,787 INFO mapred.Merger: Down to the last merge-pass, with 1 segments left of total size: 721 bytes\n",
      "2018-11-19 01:54:56,788 INFO mapred.LocalJobRunner: 1 / 1 copied.\n",
      "2018-11-19 01:54:56,795 INFO streaming.PipeMapRed: PipeMapRed exec [/home/cespedesz07/Documents/Projects/mod-0-hadoop-cespedesz07/./reducer.py]\n",
      "2018-11-19 01:54:56,803 INFO Configuration.deprecation: mapred.job.tracker is deprecated. Instead, use mapreduce.jobtracker.address\n",
      "2018-11-19 01:54:56,805 INFO Configuration.deprecation: mapred.map.tasks is deprecated. Instead, use mapreduce.job.maps\n",
      "2018-11-19 01:54:56,844 INFO streaming.PipeMapRed: R/W/S=1/0/0 in:NA [rec/s] out:NA [rec/s]\n",
      "2018-11-19 01:54:56,845 INFO streaming.PipeMapRed: R/W/S=10/0/0 in:NA [rec/s] out:NA [rec/s]\n",
      "2018-11-19 01:54:56,882 INFO streaming.PipeMapRed: Records R/W=40/1\n",
      "2018-11-19 01:54:56,887 INFO streaming.PipeMapRed: MRErrorThread done\n",
      "2018-11-19 01:54:56,888 INFO streaming.PipeMapRed: mapRedFinished\n",
      "2018-11-19 01:54:56,889 INFO mapred.Task: Task:attempt_local585593286_0001_r_000000_0 is done. And is in the process of committing\n",
      "2018-11-19 01:54:56,891 INFO mapred.LocalJobRunner: 1 / 1 copied.\n",
      "2018-11-19 01:54:56,891 INFO mapred.Task: Task attempt_local585593286_0001_r_000000_0 is allowed to commit now\n",
      "2018-11-19 01:54:56,894 INFO output.FileOutputCommitter: Saved output of task 'attempt_local585593286_0001_r_000000_0' to file:/home/cespedesz07/Documents/Projects/mod-0-hadoop-cespedesz07/output\n",
      "2018-11-19 01:54:56,896 INFO mapred.LocalJobRunner: Records R/W=40/1 > reduce\n",
      "2018-11-19 01:54:56,896 INFO mapred.Task: Task 'attempt_local585593286_0001_r_000000_0' done.\n",
      "2018-11-19 01:54:56,897 INFO mapred.Task: Final Counters for attempt_local585593286_0001_r_000000_0: Counters: 24\n",
      "\tFile System Counters\n",
      "\t\tFILE: Number of bytes read=178787\n",
      "\t\tFILE: Number of bytes written=683741\n",
      "\t\tFILE: Number of read operations=0\n",
      "\t\tFILE: Number of large read operations=0\n",
      "\t\tFILE: Number of write operations=0\n",
      "\tMap-Reduce Framework\n",
      "\t\tCombine input records=0\n",
      "\t\tCombine output records=0\n",
      "\t\tReduce input groups=5\n",
      "\t\tReduce shuffle bytes=729\n",
      "\t\tReduce input records=40\n",
      "\t\tReduce output records=6\n",
      "\t\tSpilled Records=40\n",
      "\t\tShuffled Maps =1\n",
      "\t\tFailed Shuffles=0\n",
      "\t\tMerged Map outputs=1\n",
      "\t\tGC time elapsed (ms)=0\n",
      "\t\tTotal committed heap usage (bytes)=209977344\n",
      "\tShuffle Errors\n",
      "\t\tBAD_ID=0\n",
      "\t\tCONNECTION=0\n",
      "\t\tIO_ERROR=0\n",
      "\t\tWRONG_LENGTH=0\n",
      "\t\tWRONG_MAP=0\n",
      "\t\tWRONG_REDUCE=0\n",
      "\tFile Output Format Counters \n",
      "\t\tBytes Written=132\n",
      "2018-11-19 01:54:56,897 INFO mapred.LocalJobRunner: Finishing task: attempt_local585593286_0001_r_000000_0\n",
      "2018-11-19 01:54:56,898 INFO mapred.LocalJobRunner: reduce task executor complete.\n",
      "2018-11-19 01:54:56,995 INFO mapreduce.Job: Job job_local585593286_0001 running in uber mode : false\n",
      "2018-11-19 01:54:56,996 INFO mapreduce.Job:  map 100% reduce 100%\n",
      "2018-11-19 01:54:56,998 INFO mapreduce.Job: Job job_local585593286_0001 completed successfully\n",
      "2018-11-19 01:54:57,014 INFO mapreduce.Job: Counters: 30\n",
      "\tFile System Counters\n",
      "\t\tFILE: Number of bytes read=356084\n",
      "\t\tFILE: Number of bytes written=1366621\n",
      "\t\tFILE: Number of read operations=0\n",
      "\t\tFILE: Number of large read operations=0\n",
      "\t\tFILE: Number of write operations=0\n",
      "\tMap-Reduce Framework\n",
      "\t\tMap input records=40\n",
      "\t\tMap output records=40\n",
      "\t\tMap output bytes=643\n",
      "\t\tMap output materialized bytes=729\n",
      "\t\tInput split bytes=128\n",
      "\t\tCombine input records=0\n",
      "\t\tCombine output records=0\n",
      "\t\tReduce input groups=5\n",
      "\t\tReduce shuffle bytes=729\n",
      "\t\tReduce input records=40\n",
      "\t\tReduce output records=6\n",
      "\t\tSpilled Records=80\n",
      "\t\tShuffled Maps =1\n",
      "\t\tFailed Shuffles=0\n",
      "\t\tMerged Map outputs=1\n",
      "\t\tGC time elapsed (ms)=25\n",
      "\t\tTotal committed heap usage (bytes)=419954688\n",
      "\tShuffle Errors\n",
      "\t\tBAD_ID=0\n",
      "\t\tCONNECTION=0\n",
      "\t\tIO_ERROR=0\n",
      "\t\tWRONG_LENGTH=0\n",
      "\t\tWRONG_MAP=0\n",
      "\t\tWRONG_REDUCE=0\n",
      "\tFile Input Format Counters \n",
      "\t\tBytes Read=802\n",
      "\tFile Output Format Counters \n",
      "\t\tBytes Written=132\n",
      "2018-11-19 01:54:57,014 INFO streaming.StreamJob: Output directory: output\n"
     ]
    }
   ],
   "source": [
    "%%bash\n",
    "rm -rf output\n",
    "STREAM=$HADOOP_HOME/share/hadoop/tools/lib/hadoop-streaming-*.jar\n",
    "chmod +x mapper.py\n",
    "chmod +x reducer.py\n",
    "hadoop jar $STREAM -input input.txt -output output  -mapper mapper.py -reducer reducer.py\n",
    "cat output/part-00000"
   ]
  },
  {
   "cell_type": "code",
   "execution_count": null,
   "metadata": {},
   "outputs": [],
   "source": [
    "!rm -rf mapper.py reducer.py output input.txt"
   ]
  },
  {
   "cell_type": "markdown",
   "metadata": {},
   "source": [
    "---"
   ]
  },
  {
   "cell_type": "markdown",
   "metadata": {},
   "source": [
    "Para realizar la evaluación automática de este libro:\n",
    "\n",
    "* Abra un Terminal.\n",
    "* Asegurece que esat en la misma carpeta que contiene este notebook.\n",
    "* Salve el notebook.\n",
    "* Ejecute el siguiente comando:\n",
    "\n",
    "      ./gradetool 10-Taller.ipynb"
   ]
  },
  {
   "cell_type": "markdown",
   "metadata": {},
   "source": [
    "---"
   ]
  }
 ],
 "metadata": {
  "kernelspec": {
   "display_name": "Python 3",
   "language": "python",
   "name": "python3"
  },
  "language_info": {
   "codemirror_mode": {
    "name": "ipython",
    "version": 3
   },
   "file_extension": ".py",
   "mimetype": "text/x-python",
   "name": "python",
   "nbconvert_exporter": "python",
   "pygments_lexer": "ipython3",
   "version": "3.7.0"
  },
  "toc": {
   "base_numbering": 1,
   "nav_menu": {},
   "number_sections": false,
   "sideBar": true,
   "skip_h1_title": true,
   "title_cell": "Table of Contents",
   "title_sidebar": "Contents",
   "toc_cell": false,
   "toc_position": {},
   "toc_section_display": true,
   "toc_window_display": true
  },
  "toc-autonumbering": false
 },
 "nbformat": 4,
 "nbformat_minor": 2
}
